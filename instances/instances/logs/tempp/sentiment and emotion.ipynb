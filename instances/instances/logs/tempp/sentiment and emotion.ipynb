{
  "cells": [
    {
      "cell_type": "markdown",
      "metadata": {
        "id": "_zM-XpzNjNlu"
      },
      "source": [
        "##Import Required Libraries"
      ]
    },
    {
      "cell_type": "code",
      "execution_count": 1,
      "metadata": {
        "colab": {
          "base_uri": "https://localhost:8080/"
        },
        "id": "pawUUv8ui8qE",
        "outputId": "e27e2b5b-be37-4c94-b282-3454a851de29"
      },
      "outputs": [
        {
          "name": "stderr",
          "output_type": "stream",
          "text": [
            "[nltk_data] Downloading package vader_lexicon to\n",
            "[nltk_data]     C:\\Users\\Parth\\AppData\\Roaming\\nltk_data...\n",
            "[nltk_data]   Package vader_lexicon is already up-to-date!\n",
            "[nltk_data] Downloading package punkt to\n",
            "[nltk_data]     C:\\Users\\Parth\\AppData\\Roaming\\nltk_data...\n",
            "[nltk_data]   Package punkt is already up-to-date!\n",
            "[nltk_data] Downloading package stopwords to\n",
            "[nltk_data]     C:\\Users\\Parth\\AppData\\Roaming\\nltk_data...\n",
            "[nltk_data]   Package stopwords is already up-to-date!\n",
            "[nltk_data] Downloading package wordnet to\n",
            "[nltk_data]     C:\\Users\\Parth\\AppData\\Roaming\\nltk_data...\n",
            "[nltk_data]   Package wordnet is already up-to-date!\n"
          ]
        },
        {
          "data": {
            "text/plain": [
              "True"
            ]
          },
          "execution_count": 1,
          "metadata": {},
          "output_type": "execute_result"
        }
      ],
      "source": [
        "import nltk\n",
        "from nltk.sentiment import SentimentIntensityAnalyzer\n",
        "from nltk.tokenize import word_tokenize\n",
        "from nltk.corpus import stopwords\n",
        "from nltk.stem import WordNetLemmatizer\n",
        "import string\n",
        "nltk.download('vader_lexicon')\n",
        "nltk.download('punkt')\n",
        "nltk.download('stopwords')\n",
        "nltk.download('wordnet')"
      ]
    },
    {
      "cell_type": "markdown",
      "metadata": {
        "id": "tBLoNzKMjUCd"
      },
      "source": [
        "##Preprocess Text"
      ]
    },
    {
      "cell_type": "code",
      "execution_count": 2,
      "metadata": {
        "id": "ALhIap6FjAmn"
      },
      "outputs": [],
      "source": [
        "def preprocess_text(text):\n",
        "    # Tokenize the text\n",
        "    tokens = word_tokenize(text.lower())\n",
        "\n",
        "    # Remove punctuation and stopwords\n",
        "    stop_words = set(stopwords.words('english'))\n",
        "    tokens = [word for word in tokens if word not in stop_words and word not in string.punctuation]\n",
        "\n",
        "    # Lemmatize words\n",
        "    lemmatizer = WordNetLemmatizer()\n",
        "    tokens = [lemmatizer.lemmatize(word) for word in tokens]\n",
        "\n",
        "    return tokens"
      ]
    },
    {
      "cell_type": "markdown",
      "metadata": {
        "id": "WVFhFoxrjXKP"
      },
      "source": [
        "##Identify Sentiment"
      ]
    },
    {
      "cell_type": "code",
      "execution_count": 3,
      "metadata": {
        "id": "FEi4cihsjDyK"
      },
      "outputs": [],
      "source": [
        "def identify_sentiment(text):\n",
        "    sid = SentimentIntensityAnalyzer()\n",
        "    scores = sid.polarity_scores(text)\n",
        "\n",
        "    if scores['compound'] >= 0.05:\n",
        "        return 'Positive'\n",
        "    elif scores['compound'] <= -0.05:\n",
        "        return 'Negative'\n",
        "    else:\n",
        "        return 'Neutral'"
      ]
    },
    {
      "cell_type": "markdown",
      "metadata": {
        "id": "R3Ik0FzCjaO2"
      },
      "source": [
        "## Identify Emotions"
      ]
    },
    {
      "cell_type": "code",
      "execution_count": 4,
      "metadata": {
        "id": "4twnSqJzjHcM"
      },
      "outputs": [],
      "source": [
        "def identify_emotions(text):\n",
        "    emotions = []\n",
        "\n",
        "    # Define emotion keywords or\n",
        "    emotion_keywords = {\n",
        "        'anger': ['angry', 'frustrated', 'irritated'],\n",
        "        'joy': ['happy', 'joyful', 'ecstatic'],\n",
        "        'sadness': ['sad', 'depressed', 'gloomy'],\n",
        "        'fear': ['fear', 'anxious', 'scared'],\n",
        "        'surprise': ['surprise', 'shock', 'astonish']\n",
        "    }\n",
        "\n",
        "    # Preprocess text\n",
        "    tokens = preprocess_text(text)\n",
        "\n",
        "    # Identify emotions\n",
        "    for token in tokens:\n",
        "        for emotion, keywords in emotion_keywords.items():\n",
        "            if token in keywords:\n",
        "                emotions.append(emotion)\n",
        "\n",
        "    return list(set(emotions))"
      ]
    },
    {
      "cell_type": "markdown",
      "metadata": {
        "id": "f9ihyYNnjd2f"
      },
      "source": [
        "##Driver Code"
      ]
    },
    {
      "cell_type": "code",
      "execution_count": 6,
      "metadata": {
        "colab": {
          "base_uri": "https://localhost:8080/"
        },
        "id": "HmlFS611hOtr",
        "outputId": "29bc738a-63e4-48a7-b83b-800d6c05d9d9"
      },
      "outputs": [
        {
          "name": "stdout",
          "output_type": "stream",
          "text": [
            "today is a very happy day\n",
            "Sentiment: Positive\n",
            "Emotions: ['joy']\n"
          ]
        }
      ],
      "source": [
        "def main():\n",
        "    # Input text\n",
        "    text = input(\"Enter the text: \")\n",
        "\n",
        "    # Identify sentiment\n",
        "    sentiment = identify_sentiment(text)\n",
        "    print(text)\n",
        "    print(\"Sentiment:\", sentiment)\n",
        "\n",
        "    # Identify emotions\n",
        "    emotions = identify_emotions(text)\n",
        "    print(\"Emotions:\", emotions)\n",
        "\n",
        "if __name__ == \"__main__\":\n",
        "    main()\n"
      ]
    },
    {
      "cell_type": "code",
      "execution_count": 14,
      "metadata": {
        "id": "g73cQ1ooiRkP"
      },
      "outputs": [],
      "source": []
    }
  ],
  "metadata": {
    "colab": {
      "provenance": []
    },
    "kernelspec": {
      "display_name": "Python 3",
      "name": "python3"
    },
    "language_info": {
      "codemirror_mode": {
        "name": "ipython",
        "version": 3
      },
      "file_extension": ".py",
      "mimetype": "text/x-python",
      "name": "python",
      "nbconvert_exporter": "python",
      "pygments_lexer": "ipython3",
      "version": "3.11.9"
    }
  },
  "nbformat": 4,
  "nbformat_minor": 0
}
