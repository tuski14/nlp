{
  "cells": [
    {
      "cell_type": "markdown",
      "metadata": {
        "id": "IEoi7tC_gaSG"
      },
      "source": [
        "##POS Tagging"
      ]
    },
    {
      "cell_type": "code",
      "execution_count": 4,
      "metadata": {
        "colab": {
          "base_uri": "https://localhost:8080/"
        },
        "id": "rWMiibM3f4mH",
        "outputId": "123ae79c-5c47-4230-c95f-a255874ef80c"
      },
      "outputs": [
        {
          "name": "stderr",
          "output_type": "stream",
          "text": [
            "[nltk_data] Downloading package punkt to\n",
            "[nltk_data]     C:\\Users\\Parth\\AppData\\Roaming\\nltk_data...\n",
            "[nltk_data]   Package punkt is already up-to-date!\n",
            "[nltk_data] Downloading package averaged_perceptron_tagger to\n",
            "[nltk_data]     C:\\Users\\Parth\\AppData\\Roaming\\nltk_data...\n",
            "[nltk_data]   Package averaged_perceptron_tagger is already up-to-\n",
            "[nltk_data]       date!\n"
          ]
        },
        {
          "data": {
            "text/plain": [
              "[('I', 'PRP'),\n",
              " ('am', 'VBP'),\n",
              " ('Parth', 'JJ'),\n",
              " ('Singhal', 'NNP'),\n",
              " ('and', 'CC'),\n",
              " ('My', 'NNP'),\n",
              " ('favorite', 'NN'),\n",
              " ('subject', 'NN'),\n",
              " ('is', 'VBZ'),\n",
              " ('Natural', 'NNP'),\n",
              " ('Langauge', 'NNP'),\n",
              " ('Processing', 'NNP')]"
            ]
          },
          "execution_count": 4,
          "metadata": {},
          "output_type": "execute_result"
        }
      ],
      "source": [
        "# Import necessary libraries\n",
        "import nltk\n",
        "nltk.download('punkt')\n",
        "nltk.download('averaged_perceptron_tagger')\n",
        "\n",
        "# Load or input the text data\n",
        "text = \"I am Parth Singhal and My favorite subject is Natural Langauge Processing\"\n",
        "\n",
        "# Preprocess the text data\n",
        "tokens = nltk.word_tokenize(text)\n",
        "\n",
        "# Perform POS tagging\n",
        "pos_tags = nltk.pos_tag(tokens)\n",
        "\n",
        "# Display or save the tagged text with POS labels\n",
        "pos_tags\n"
      ]
    },
    {
      "cell_type": "markdown",
      "metadata": {
        "id": "f-Fh-VVBghPX"
      },
      "source": [
        "##Word Embeddings"
      ]
    },
    {
      "cell_type": "code",
      "execution_count": 8,
      "metadata": {
        "colab": {
          "base_uri": "https://localhost:8080/"
        },
        "id": "ztiT7030f_Mf",
        "outputId": "bdb06ee8-66e3-4357-9025-1dfbdca1ce47"
      },
      "outputs": [
        {
          "name": "stdout",
          "output_type": "stream",
          "text": [
            "Embedding for 'test': [-8.7290825e-03  2.1308626e-03 -8.7381998e-04 -9.3182977e-03\n",
            " -9.4299307e-03 -1.4118511e-03  4.4326410e-03  3.7044261e-03\n",
            " -6.4997696e-03 -6.8733850e-03 -4.9991822e-03 -2.2864558e-03\n",
            " -7.2520357e-03 -9.6027041e-03 -2.7437715e-03 -8.3623109e-03\n",
            " -6.0376660e-03 -5.6699752e-03 -2.3449801e-03 -1.7087121e-03\n",
            " -8.9551387e-03 -7.3408562e-04  8.1543718e-03  7.6917615e-03\n",
            " -7.2040474e-03 -3.6661658e-03  3.1177367e-03 -9.5706889e-03\n",
            "  1.4751300e-03  6.5244902e-03  5.7463488e-03 -8.7623233e-03\n",
            " -4.5149941e-03 -8.1419647e-03  4.6459692e-05  9.2627620e-03\n",
            "  5.9735128e-03  5.0674295e-03  5.0615277e-03 -3.2436301e-03\n",
            "  9.5508751e-03 -7.3562078e-03 -7.2714905e-03 -2.2656955e-03\n",
            " -7.7862386e-04 -3.2169141e-03 -5.9432350e-04  7.4902121e-03\n",
            " -6.9600402e-04 -1.6243765e-03  2.7432174e-03 -8.3580362e-03\n",
            "  7.8544552e-03  8.5361684e-03 -9.5827244e-03  2.4456952e-03\n",
            "  9.9058822e-03 -7.6673832e-03 -6.9676791e-03 -7.7344505e-03\n",
            "  8.3962167e-03 -6.8079541e-04  9.1442699e-03 -8.1584062e-03\n",
            "  3.7437556e-03  2.6349623e-03  7.4342458e-04  2.3288082e-03\n",
            " -7.4687297e-03 -9.3580419e-03  2.3551665e-03  6.1489996e-03\n",
            "  7.9844398e-03  5.7347408e-03 -7.7583233e-04  8.3070118e-03\n",
            " -9.3352804e-03  3.4065382e-03  2.6700812e-04  3.8555101e-03\n",
            "  7.3857652e-03 -6.7258584e-03  5.5864388e-03 -9.5206564e-03\n",
            " -8.0541510e-04 -8.6882496e-03 -5.0964965e-03  9.2894994e-03\n",
            " -1.8594062e-03  2.9143628e-03  9.0722144e-03  8.9388993e-03\n",
            " -8.2072383e-03 -3.0126907e-03  9.8872315e-03  5.1047583e-03\n",
            " -1.5880928e-03 -8.6931093e-03  2.9612195e-03 -6.6738049e-03]\n"
          ]
        }
      ],
      "source": [
        "# Import necessary libraries\n",
        "from gensim.models import Word2Vec\n",
        "import nltk\n",
        "\n",
        "# Sample text data \n",
        "text = \"Hi my name is Parth Singhal, this is a test sentence for word embeddings\"\n",
        "\n",
        "# Preprocess the text data\n",
        "sentences = nltk.sent_tokenize(text)\n",
        "tokenized_sentences = [nltk.word_tokenize(sentence) for sentence in sentences]\n",
        "\n",
        "# Train Word2Vec model\n",
        "model = Word2Vec(tokenized_sentences, vector_size=100, window=5, min_count=1, workers=4)\n",
        "\n",
        "# Get word embeddings\n",
        "word_embeddings = model.wv\n",
        "\n",
        "# Example: Accessing word embeddings for a specific word\n",
        "print(\"Embedding for 'test':\", word_embeddings['test'])\n",
        "\n"
      ]
    },
    {
      "cell_type": "code",
      "execution_count": null,
      "metadata": {
        "id": "w6Ty9JXGgl96"
      },
      "outputs": [],
      "source": []
    }
  ],
  "metadata": {
    "colab": {
      "provenance": []
    },
    "kernelspec": {
      "display_name": "Python 3",
      "name": "python3"
    },
    "language_info": {
      "codemirror_mode": {
        "name": "ipython",
        "version": 3
      },
      "file_extension": ".py",
      "mimetype": "text/x-python",
      "name": "python",
      "nbconvert_exporter": "python",
      "pygments_lexer": "ipython3",
      "version": "3.11.9"
    }
  },
  "nbformat": 4,
  "nbformat_minor": 0
}
