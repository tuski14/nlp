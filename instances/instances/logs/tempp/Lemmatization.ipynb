{
  "cells": [
    {
      "cell_type": "markdown",
      "metadata": {
        "collapsed": true,
        "id": "fO06vC4o-bzO"
      },
      "source": [
        "___\n",
        "\n",
        "<a href='http://www.pieriandata.com'> <img src='../Pierian_Data_Logo.png' /></a>\n",
        "___"
      ]
    },
    {
      "cell_type": "markdown",
      "metadata": {
        "id": "7LI937sx-bzZ"
      },
      "source": [
        "# Lemmatization\n",
        "In contrast to stemming, lemmatization looks beyond word reduction, and considers a language's full vocabulary to apply a *morphological analysis* to words. The lemma of 'was' is 'be' and the lemma of 'mice' is 'mouse'. Further, the lemma of 'meeting' might be 'meet' or 'meeting' depending on its use in a sentence."
      ]
    },
    {
      "cell_type": "code",
      "execution_count": null,
      "metadata": {
        "id": "-5lAQc-6-bza"
      },
      "outputs": [],
      "source": [
        "# Perform standard imports:\n",
        "import spacy\n",
        "nlp = spacy.load('en_core_web_sm')"
      ]
    },
    {
      "cell_type": "code",
      "execution_count": null,
      "metadata": {
        "colab": {
          "base_uri": "https://localhost:8080/"
        },
        "id": "58C-jL6--bzc",
        "outputId": "e418686e-0dfb-4e1c-f589-5418a78c9da2"
      },
      "outputs": [
        {
          "name": "stdout",
          "output_type": "stream",
          "text": [
            "I \t PRON \t 4690420944186131903 \t I\n",
            "am \t AUX \t 10382539506755952630 \t be\n",
            "a \t DET \t 11901859001352538922 \t a\n",
            "runner \t NOUN \t 12640964157389618806 \t runner\n",
            "running \t VERB \t 12767647472892411841 \t run\n",
            "in \t ADP \t 3002984154512732771 \t in\n",
            "a \t DET \t 11901859001352538922 \t a\n",
            "race \t NOUN \t 8048469955494714898 \t race\n",
            "because \t SCONJ \t 16950148841647037698 \t because\n",
            "I \t PRON \t 4690420944186131903 \t I\n",
            "love \t VERB \t 3702023516439754181 \t love\n",
            "to \t PART \t 3791531372978436496 \t to\n",
            "run \t VERB \t 12767647472892411841 \t run\n",
            "since \t SCONJ \t 10066841407251338481 \t since\n",
            "I \t PRON \t 4690420944186131903 \t I\n",
            "ran \t VERB \t 12767647472892411841 \t run\n",
            "today \t NOUN \t 11042482332948150395 \t today\n"
          ]
        }
      ],
      "source": [
        "doc1 = nlp(u\"I am a runner running in a race because I love to run since I ran today\")\n",
        "\n",
        "for token in doc1:\n",
        "    print(token.text, '\\t', token.pos_, '\\t', token.lemma, '\\t', token.lemma_)"
      ]
    },
    {
      "cell_type": "markdown",
      "metadata": {
        "id": "j1qa7KNa-bze"
      },
      "source": [
        "<font color=green>In the above sentence, `running`, `run` and `ran` all point to the same lemma `run` (...11841) to avoid duplication.</font>"
      ]
    },
    {
      "cell_type": "markdown",
      "metadata": {
        "id": "RD4y_gir-bzf"
      },
      "source": [
        "### Function to display lemmas\n",
        "Since the display above is staggared and hard to read, let's write a function that displays the information we want more neatly."
      ]
    },
    {
      "cell_type": "code",
      "execution_count": null,
      "metadata": {
        "id": "VhQuXJ3D-bzf"
      },
      "outputs": [],
      "source": [
        "def show_lemmas(text):\n",
        "    for token in text:\n",
        "        print(f'{token.text:{12}} {token.pos_:{6}} {token.lemma:<{22}} {token.lemma_}')"
      ]
    },
    {
      "cell_type": "markdown",
      "metadata": {
        "id": "aIKCBnVr-bzg"
      },
      "source": [
        "Here we're using an **f-string** to format the printed text by setting minimum field widths and adding a left-align to the lemma hash value."
      ]
    },
    {
      "cell_type": "code",
      "execution_count": null,
      "metadata": {
        "colab": {
          "base_uri": "https://localhost:8080/"
        },
        "id": "BEtjNQfJ-bzi",
        "outputId": "800565f7-fcab-40af-dbb5-6c2655f786fa"
      },
      "outputs": [
        {
          "name": "stdout",
          "output_type": "stream",
          "text": [
            "I            PRON   4690420944186131903    I\n",
            "saw          VERB   11925638236994514241   see\n",
            "eighteen     NUM    9609336664675087640    eighteen\n",
            "mice         NOUN   1384165645700560590    mouse\n",
            "today        NOUN   11042482332948150395   today\n",
            "!            PUNCT  17494803046312582752   !\n"
          ]
        }
      ],
      "source": [
        "doc2 = nlp(u\"I saw eighteen mice today!\")\n",
        "\n",
        "show_lemmas(doc2)"
      ]
    },
    {
      "cell_type": "markdown",
      "metadata": {
        "id": "OB2apqwL-bzj"
      },
      "source": [
        "<font color=green>Notice that the lemma of `saw` is `see`, `mice` is the plural form of `mouse`, and yet `eighteen` is its own number, *not* an expanded form of `eight`.</font>"
      ]
    },
    {
      "cell_type": "code",
      "execution_count": null,
      "metadata": {
        "colab": {
          "base_uri": "https://localhost:8080/"
        },
        "id": "7796GFfn-bzk",
        "outputId": "dc1c6677-10bf-435d-aeb6-1b5abb7ed313"
      },
      "outputs": [
        {
          "name": "stdout",
          "output_type": "stream",
          "text": [
            "I            PRON   4690420944186131903    I\n",
            "am           AUX    10382539506755952630   be\n",
            "meeting      VERB   6880656908171229526    meet\n",
            "him          PRON   1655312771067108281    he\n",
            "tomorrow     NOUN   3573583789758258062    tomorrow\n",
            "at           ADP    11667289587015813222   at\n",
            "the          DET    7425985699627899538    the\n",
            "meeting      NOUN   14798207169164081740   meeting\n",
            ".            PUNCT  12646065887601541794   .\n"
          ]
        }
      ],
      "source": [
        "doc3 = nlp(u\"I am meeting him tomorrow at the meeting.\")\n",
        "\n",
        "show_lemmas(doc3)"
      ]
    },
    {
      "cell_type": "markdown",
      "metadata": {
        "id": "9azFuWPk-bzk"
      },
      "source": [
        "<font color=green>Here the lemma of `meeting` is determined by its Part of Speech tag.</font>"
      ]
    },
    {
      "cell_type": "code",
      "execution_count": null,
      "metadata": {
        "colab": {
          "base_uri": "https://localhost:8080/"
        },
        "id": "inCyp0Mn-bzl",
        "outputId": "c1107dcf-5090-4cd3-f523-aa238d489332"
      },
      "outputs": [
        {
          "name": "stdout",
          "output_type": "stream",
          "text": [
            "That         PRON   4380130941430378203    that\n",
            "'s           AUX    10382539506755952630   be\n",
            "an           DET    15099054000809333061   an\n",
            "enormous     ADJ    17917224542039855524   enormous\n",
            "automobile   NOUN   7211811266693931283    automobile\n"
          ]
        }
      ],
      "source": [
        "doc4 = nlp(u\"That's an enormous automobile\")\n",
        "\n",
        "show_lemmas(doc4)"
      ]
    },
    {
      "cell_type": "markdown",
      "metadata": {
        "id": "m9L_Gn0d-bzl"
      },
      "source": [
        "<font color=green>Note that lemmatization does *not* reduce words to their most basic synonym - that is, `enormous` doesn't become `big` and `automobile` doesn't become `car`.</font>"
      ]
    },
    {
      "cell_type": "code",
      "execution_count": null,
      "metadata": {},
      "outputs": [],
      "source": [
        "import nltk\n",
        "import spacy\n",
        "from nltk.stem import WordNetLemmatizer\n",
        "from nltk.tokenize import word_tokenize\n",
        "import nltk\n",
        "from nltk.stem import PorterStemmer\n",
        "nltk.download('stopwords')\n",
        "nltk.download('punkt')\n",
        "nltk.download('wordnet')\n",
        "\n",
        "nlp=spacy.load(\"en_core_web_sm\")\n",
        "lemmatizer = WordNetLemmatizer()\n",
        "stemmer=PorterStemmer()\n",
        "def stem_lem(text):\n",
        "    text=text.lower()\n",
        "\n",
        "    words=word_tokenize(text)\n",
        "    \"\"\"stop_words=set(nltk.corpus.stopwords.words('english'))  \n",
        "    # remove the stop words from the list of\n",
        "    # tokens    \n",
        "    words=[i for i in words if not i in stop_words] \"\"\"\n",
        "    # apply lemmatization on the remaining words        \n",
        "    lemmed_words= [lemmatizer.lemmatize(word) for word in words]\n",
        "    stemmed_words=[stemmer.stem(word) for word in words]\n",
        "\n",
        "    lemmed_words=\" \".join(lemmed_words)\n",
        "    stemmed_words=\" \".join(stemmed_words)\n",
        "    return (lemmed_words,stemmed_words)\n",
        "\n",
        "text=\"my name is parth and i like running \"\n",
        "doc=nlp(text)\n",
        "print(f\"Original Text: {text}\")\n",
        "lemmed_words, stemmed_words = stem_lem(text)\n",
        "print(lemmed_words)\n",
        "print(stemmed_words)\n"
      ]
    }
  ],
  "metadata": {
    "colab": {
      "provenance": []
    },
    "kernelspec": {
      "display_name": "Python 3",
      "language": "python",
      "name": "python3"
    },
    "language_info": {
      "codemirror_mode": {
        "name": "ipython",
        "version": 3
      },
      "file_extension": ".py",
      "mimetype": "text/x-python",
      "name": "python",
      "nbconvert_exporter": "python",
      "pygments_lexer": "ipython3",
      "version": "3.6.2"
    }
  },
  "nbformat": 4,
  "nbformat_minor": 0
}
