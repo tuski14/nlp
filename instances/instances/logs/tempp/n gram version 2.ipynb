{
  "cells": [
    {
      "cell_type": "code",
      "execution_count": 3,
      "metadata": {},
      "outputs": [
        {
          "name": "stdout",
          "output_type": "stream",
          "text": [
            "Probabilities for each sentence:\n",
            "I like to eat apples.: 0.0007028321532694709\n",
            "I like to eat bananas.: 0.0007028321532694709\n",
            "I like to eat oranges.: 0.0007028321532694709\n",
            "Apples like to eat I.: 4.591836734693877e-22\n",
            "Oranges eat to like I.: 1.0000000000000001e-40\n",
            "\n",
            "Sentence with the highest probability:\n",
            "I like to eat apples.\n",
            "Probability: 0.0007028321532694709\n"
          ]
        }
      ],
      "source": [
        "from collections import defaultdict\n",
        "\n",
        "class NGramLanguageModel:\n",
        "    def __init__(self, corpus, n):\n",
        "        self.n = n\n",
        "        self.ngram_counts = defaultdict(int)\n",
        "        self.total_ngrams = 0\n",
        "        self.train(corpus)\n",
        "\n",
        "    def train(self, corpus):\n",
        "        # Tokenize the corpus into words\n",
        "        words = corpus.split()\n",
        "\n",
        "        # Count occurrences of each n-gram\n",
        "        for i in range(len(words) - self.n + 1):\n",
        "            ngram = tuple(words[i:i+self.n])\n",
        "            self.ngram_counts[ngram] += 1\n",
        "            self.total_ngrams += 1\n",
        "\n",
        "    def probability(self, sequence):\n",
        "        # Tokenize the input sequence into words\n",
        "        words = sequence.split()\n",
        "        sequence_prob = 1.0\n",
        "\n",
        "        # Calculate the probability of the sequence using the n-gram model\n",
        "        for i in range(len(words) - self.n + 1):\n",
        "            ngram = tuple(words[i:i+self.n])\n",
        "            ngram_count = self.ngram_counts[ngram]\n",
        "            if ngram_count > 0:\n",
        "                sequence_prob *= ngram_count / self.total_ngrams\n",
        "            else:\n",
        "                # Handle unknown n-grams by assigning a very small probability\n",
        "                sequence_prob *= 1e-10  # Or any other small value you choose\n",
        "\n",
        "        return sequence_prob\n",
        "\n",
        "def main():\n",
        "    # Sample corpus\n",
        "    corpus = \"I like to eat apples. I like to eat bananas. I like to eat oranges.\"\n",
        "\n",
        "    # Define the value of N for the N-gram model\n",
        "    N = 2  # Change this to adjust N\n",
        "\n",
        "    # Initialize the N-gram language model\n",
        "    ngram_model = NGramLanguageModel(corpus, N)\n",
        "\n",
        "    # Sample sentences to compare probabilities\n",
        "    sentences = [\n",
        "        \"I like to eat apples.\",\n",
        "        \"I like to eat bananas.\",\n",
        "        \"I like to eat oranges.\",\n",
        "        \"Apples like to eat I.\",\n",
        "        \"Oranges eat to like I.\",\n",
        "    ]\n",
        "\n",
        "    # Calculate probabilities for each sentence\n",
        "    probabilities = {}\n",
        "    for sentence in sentences:\n",
        "        probabilities[sentence] = ngram_model.probability(sentence)\n",
        "\n",
        "    # Find the sentence with the highest probability\n",
        "    highest_probability_sentence = max(probabilities, key=probabilities.get)\n",
        "\n",
        "    print(\"Probabilities for each sentence:\")\n",
        "    for sentence, probability in probabilities.items():\n",
        "        print(f\"{sentence}: {probability}\")\n",
        "\n",
        "    print(\"\\nSentence with the highest probability:\")\n",
        "    print(highest_probability_sentence)\n",
        "    print(\"Probability:\", probabilities[highest_probability_sentence])\n",
        "\n",
        "if __name__ == \"__main__\":\n",
        "    main()\n"
      ]
    }
  ],
  "metadata": {
    "colab": {
      "provenance": []
    },
    "kernelspec": {
      "display_name": "Python 3",
      "name": "python3"
    },
    "language_info": {
      "codemirror_mode": {
        "name": "ipython",
        "version": 3
      },
      "file_extension": ".py",
      "mimetype": "text/x-python",
      "name": "python",
      "nbconvert_exporter": "python",
      "pygments_lexer": "ipython3",
      "version": "3.11.9"
    }
  },
  "nbformat": 4,
  "nbformat_minor": 0
}
