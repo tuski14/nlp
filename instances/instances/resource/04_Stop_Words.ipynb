{
  "cells": [
    {
      "cell_type": "markdown",
      "metadata": {
        "id": "84aDhnh11W-E"
      },
      "source": [
        "___\n",
        "\n",
        "<a href='http://www.pieriandata.com'> <img src='../Pierian_Data_Logo.png' /></a>\n",
        "___"
      ]
    },
    {
      "cell_type": "markdown",
      "metadata": {
        "id": "JOy1Y4N51W-I"
      },
      "source": [
        "# Stop Words\n",
        "Words like \"a\" and \"the\" appear so frequently that they don't require tagging as thoroughly as nouns, verbs and modifiers. We call these *stop words*, and they can be filtered from the text to be processed. spaCy holds a built-in list of some 305 English stop words."
      ]
    },
    {
      "cell_type": "code",
      "execution_count": null,
      "metadata": {
        "id": "VRhLnbhd1W-J"
      },
      "outputs": [],
      "source": [
        "# Perform standard imports:\n",
        "import spacy\n",
        "nlp = spacy.load('en_core_web_sm')"
      ]
    },
    {
      "cell_type": "code",
      "execution_count": null,
      "metadata": {
        "id": "A9Aih8y_1W-K",
        "outputId": "37b0cd0b-7a6f-4ec5-bec3-22b1cc33587b",
        "colab": {
          "base_uri": "https://localhost:8080/"
        }
      },
      "outputs": [
        {
          "output_type": "stream",
          "name": "stdout",
          "text": [
            "{'by', 'an', 'anyone', 'third', 'when', 'last', 'herself', 'next', 'together', 'eleven', 'everywhere', 'up', 'and', 'throughout', 'nobody', 'us', 'very', 'such', 'top', 'whatever', 'everything', 'see', 'n‘t', 'therefore', \"'re\", 'every', 'around', 'become', 'whether', 'which', 'either', 'least', \"'ll\", 'hereby', 'whom', 'fifteen', 'go', 'himself', 'no', 'these', 'few', 'does', 'sometimes', 'however', 'themselves', 'you', 'unless', 'across', 'between', 'off', 'each', 'often', 'although', 'bottom', 'take', 'quite', 'whose', 'am', 'been', 'thereafter', 'empty', 'seem', 'say', 'too', 'seems', 'beside', 'hereupon', 'even', 'sometime', 'doing', 'thence', 'though', '’d', 'there', 'fifty', 'again', 'serious', 'ten', 'much', 'meanwhile', 'ca', 'also', 'those', 'him', 'namely', 'was', 'who', 'down', 'made', 'sixty', 'two', '‘m', 'mine', 'nine', 'his', '‘re', 'everyone', 'herein', 'per', '‘s', 'hence', 'further', 'me', 'side', 'anything', 'mostly', 'upon', '’m', 'because', 'where', 'with', 'how', 'this', 'whereas', 'something', 'latter', 'is', 'yourselves', 'else', 'before', 'until', 'thus', 'due', 'otherwise', 'beyond', 'itself', 'should', 'four', 'must', 'thru', 'show', 'ours', 'against', 'move', 'of', 'into', 'name', 'already', 'several', 'becomes', 'ourselves', 'what', 'elsewhere', 'nevertheless', 'they', 'anywhere', 'give', 'all', 'neither', 'whereupon', 'without', 'never', 'nothing', 'toward', 're', 'can', 'their', 'forty', 'once', 'during', 'alone', 'onto', 'whole', 'nor', 'why', 'therein', 'whence', \"n't\", 'noone', 'full', 'less', 'be', '‘ll', 'becoming', 'indeed', 'call', 'rather', 'her', 'own', 'yourself', 'wherein', 'besides', 'nowhere', 'whereby', 'still', '’re', 'your', 'moreover', 'are', 'on', 'really', 'behind', 'front', '‘ve', 'then', 'regarding', 'were', 'formerly', 'get', 'not', 'do', '‘d', 'as', 'had', 'might', 'yet', 'towards', 'using', 'would', 'since', 'being', 'former', 'well', 'about', 'myself', 'some', 'amongst', 'via', \"'d\", 'twenty', 'have', 'keep', 'amount', 'ever', 'it', 'below', 'a', 'another', \"'ve\", 'only', 'whither', 'just', 'my', 'but', 'than', 'other', 'could', 'our', 'thereby', 'almost', 'any', 'five', 'back', 'among', 'while', 'first', 'them', 'used', 'here', 'always', 'part', 'to', 'someone', 'hereafter', 'perhaps', 'beforehand', 'seemed', 'except', 'one', 'he', 'none', 'twelve', 'along', 'somewhere', \"'s\", 'somehow', 'under', 'n’t', 'so', 'for', 'the', 'please', 'did', 'more', 'six', 'at', 'above', 'over', 'became', 'hers', 'if', 'in', 'three', 'will', 'within', 'from', 'same', 'eight', '’ve', 'latterly', 'most', 'wherever', 'others', 'thereupon', 'done', 'may', 'whereafter', 'has', 'put', 'i', 'yours', 'both', 'whenever', '’s', 'we', 'its', 'many', 'anyhow', 'various', 'hundred', 'through', 'or', 'after', 'cannot', 'that', 'seeming', 'now', '’ll', 'anyway', 'make', 'out', 'she', 'whoever', 'enough', \"'m\", 'afterwards'}\n"
          ]
        }
      ],
      "source": [
        "# Print the set of spaCy's default stop words (remember that sets are unordered):\n",
        "print(nlp.Defaults.stop_words)"
      ]
    },
    {
      "cell_type": "code",
      "execution_count": null,
      "metadata": {
        "id": "B39W6_Kd1W-L",
        "outputId": "c8cf5793-8031-4706-acad-08abbdb69fbd",
        "colab": {
          "base_uri": "https://localhost:8080/"
        }
      },
      "outputs": [
        {
          "output_type": "execute_result",
          "data": {
            "text/plain": [
              "326"
            ]
          },
          "metadata": {},
          "execution_count": 4
        }
      ],
      "source": [
        "len(nlp.Defaults.stop_words)"
      ]
    },
    {
      "cell_type": "markdown",
      "metadata": {
        "id": "7Gju-a6p1W-N"
      },
      "source": [
        "## To see if a word is a stop word"
      ]
    },
    {
      "cell_type": "code",
      "execution_count": null,
      "metadata": {
        "id": "R4u4FwLP1W-O",
        "outputId": "c273468c-a91d-4914-d9b0-f2c7e6b1936b",
        "colab": {
          "base_uri": "https://localhost:8080/"
        }
      },
      "outputs": [
        {
          "output_type": "execute_result",
          "data": {
            "text/plain": [
              "True"
            ]
          },
          "metadata": {},
          "execution_count": 5
        }
      ],
      "source": [
        "nlp.vocab['myself'].is_stop"
      ]
    },
    {
      "cell_type": "code",
      "execution_count": null,
      "metadata": {
        "id": "TBktMWKz1W-O",
        "outputId": "2263abe6-22c9-42ed-de3c-e5d51f4f99ba",
        "colab": {
          "base_uri": "https://localhost:8080/"
        }
      },
      "outputs": [
        {
          "output_type": "execute_result",
          "data": {
            "text/plain": [
              "False"
            ]
          },
          "metadata": {},
          "execution_count": 6
        }
      ],
      "source": [
        "nlp.vocab['mystery'].is_stop"
      ]
    },
    {
      "cell_type": "markdown",
      "metadata": {
        "id": "b_qRmQux1W-O"
      },
      "source": [
        "## To add a stop word\n",
        "There may be times when you wish to add a stop word to the default set. Perhaps you decide that `'btw'` (common shorthand for \"by the way\") should be considered a stop word."
      ]
    },
    {
      "cell_type": "code",
      "execution_count": null,
      "metadata": {
        "id": "DmRgbZmQ1W-P"
      },
      "outputs": [],
      "source": [
        "# Add the word to the set of stop words. Use lowercase!\n",
        "nlp.Defaults.stop_words.add('btw')\n",
        "\n",
        "# Set the stop_word tag on the lexeme\n",
        "nlp.vocab['btw'].is_stop = True"
      ]
    },
    {
      "cell_type": "code",
      "execution_count": null,
      "metadata": {
        "id": "Fy-OUlv21W-Q",
        "outputId": "be0d3f6f-3c4b-47e2-c5cf-1b4f8c5cc57f",
        "colab": {
          "base_uri": "https://localhost:8080/"
        }
      },
      "outputs": [
        {
          "output_type": "execute_result",
          "data": {
            "text/plain": [
              "327"
            ]
          },
          "metadata": {},
          "execution_count": 8
        }
      ],
      "source": [
        "len(nlp.Defaults.stop_words)"
      ]
    },
    {
      "cell_type": "code",
      "execution_count": null,
      "metadata": {
        "id": "j_GYtuBB1W-Q",
        "outputId": "36c1b644-5e85-4d81-eeb0-aff86d5e3325",
        "colab": {
          "base_uri": "https://localhost:8080/"
        }
      },
      "outputs": [
        {
          "output_type": "execute_result",
          "data": {
            "text/plain": [
              "True"
            ]
          },
          "metadata": {},
          "execution_count": 9
        }
      ],
      "source": [
        "nlp.vocab['btw'].is_stop"
      ]
    },
    {
      "cell_type": "markdown",
      "metadata": {
        "id": "gtOfmEnc1W-R"
      },
      "source": [
        "<font color=green>When adding stop words, always use lowercase. Lexemes are converted to lowercase before being added to **vocab**.</font>"
      ]
    },
    {
      "cell_type": "markdown",
      "metadata": {
        "id": "1PODABef1W-R"
      },
      "source": [
        "## To remove a stop word\n",
        "Alternatively, you may decide that `'beyond'` should not be considered a stop word."
      ]
    },
    {
      "cell_type": "code",
      "execution_count": null,
      "metadata": {
        "id": "CSM-sltt1W-R"
      },
      "outputs": [],
      "source": [
        "# Remove the word from the set of stop words\n",
        "nlp.Defaults.stop_words.remove('beyond')\n",
        "\n",
        "# Remove the stop_word tag from the lexeme\n",
        "nlp.vocab['beyond'].is_stop = False"
      ]
    },
    {
      "cell_type": "code",
      "execution_count": null,
      "metadata": {
        "id": "OlsI4LuR1W-S",
        "outputId": "14d1fc25-97e8-4c6c-fffa-fb70d400cef5",
        "colab": {
          "base_uri": "https://localhost:8080/"
        }
      },
      "outputs": [
        {
          "output_type": "execute_result",
          "data": {
            "text/plain": [
              "326"
            ]
          },
          "metadata": {},
          "execution_count": 12
        }
      ],
      "source": [
        "len(nlp.Defaults.stop_words)"
      ]
    },
    {
      "cell_type": "code",
      "execution_count": null,
      "metadata": {
        "id": "o5RUFv4j1W-S",
        "outputId": "ebe3eee3-becd-48a5-ce9b-942334475fc1",
        "colab": {
          "base_uri": "https://localhost:8080/"
        }
      },
      "outputs": [
        {
          "output_type": "execute_result",
          "data": {
            "text/plain": [
              "True"
            ]
          },
          "metadata": {},
          "execution_count": 10
        }
      ],
      "source": [
        "nlp.vocab['beyond'].is_stop"
      ]
    },
    {
      "cell_type": "markdown",
      "metadata": {
        "id": "CxGwq1ew1W-S"
      },
      "source": [
        "Great! Now you should be able to access spaCy's default set of stop words, and add or remove stop words as needed.\n"
      ]
    }
  ],
  "metadata": {
    "kernelspec": {
      "display_name": "Python 3",
      "language": "python",
      "name": "python3"
    },
    "language_info": {
      "codemirror_mode": {
        "name": "ipython",
        "version": 3
      },
      "file_extension": ".py",
      "mimetype": "text/x-python",
      "name": "python",
      "nbconvert_exporter": "python",
      "pygments_lexer": "ipython3",
      "version": "3.6.7"
    },
    "colab": {
      "provenance": []
    }
  },
  "nbformat": 4,
  "nbformat_minor": 0
}