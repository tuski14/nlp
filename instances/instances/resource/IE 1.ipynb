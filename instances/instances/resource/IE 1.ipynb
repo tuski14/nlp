{
  "cells": [
    {
      "cell_type": "markdown",
      "metadata": {
        "id": "Xh9ke3B5uhvr"
      },
      "source": [
        "___\n",
        "\n",
        "<a href='http://www.pieriandata.com'> <img src='../Pierian_Data_Logo.png' /></a>\n",
        "___"
      ]
    },
    {
      "cell_type": "markdown",
      "metadata": {
        "id": "h_scq_Xvuhvs"
      },
      "source": [
        "# NLP IE-1 Assessment - A3 Batch - 9th February 2023 - 10 am to 11 am"
      ]
    },
    {
      "cell_type": "markdown",
      "source": [
        "# Section 1: NLP Pipeline Basics"
      ],
      "metadata": {
        "id": "LuQ4p9tEwZ4x"
      }
    },
    {
      "cell_type": "markdown",
      "metadata": {
        "id": "iBRxF_wmuhvs"
      },
      "source": [
        "For this assessment we'll be using the short story [_An Occurrence at Owl Creek Bridge_](https://en.wikipedia.org/wiki/An_Occurrence_at_Owl_Creek_Bridge) by Ambrose Bierce (1890). <br>The story is in the public domain; the text file was obtained from [Project Gutenberg](https://www.gutenberg.org/ebooks/375.txt.utf-8)."
      ]
    },
    {
      "cell_type": "code",
      "execution_count": null,
      "metadata": {
        "id": "K2cP901Huhvt"
      },
      "outputs": [],
      "source": [
        "# RUN THIS CELL to perform standard imports:\n",
        "import spacy\n",
        "nlp = spacy.load('en_core_web_sm')"
      ]
    },
    {
      "cell_type": "markdown",
      "metadata": {
        "id": "bkTeNlSPuhvt"
      },
      "source": [
        "**Task #1. Create a Doc object from the file `owlcreek.txt`**<br>\n",
        "> HINT: Use `with open('../TextFiles/owlcreek.txt') as f:`"
      ]
    },
    {
      "cell_type": "code",
      "execution_count": null,
      "metadata": {
        "id": "OS09Hc6ouhvu"
      },
      "outputs": [],
      "source": [
        "# Enter your code here:\n",
        "with open('/content/sample.txt') as f:\n",
        "  s=f.read()\n",
        "  doc=nlp(s)\n"
      ]
    },
    {
      "cell_type": "code",
      "execution_count": null,
      "metadata": {
        "id": "ZcPYa4QCuhvu",
        "colab": {
          "base_uri": "https://localhost:8080/"
        },
        "outputId": "1b5c30f6-8599-4d82-8b8f-a0364c63ec94"
      },
      "outputs": [
        {
          "output_type": "execute_result",
          "data": {
            "text/plain": [
              "A man stood upon a railroad bridge in northern Alabama, looking down\n",
              "into the swift water twenty feet below. The man’s hands were behind his\n",
              "back, the wrists bound with"
            ]
          },
          "metadata": {},
          "execution_count": 61
        }
      ],
      "source": [
        "# Run this cell to verify it worked:\n",
        "\n",
        "doc[:36]"
      ]
    },
    {
      "cell_type": "markdown",
      "metadata": {
        "id": "1JOVppULuhvu"
      },
      "source": [
        "**Task #2. How many tokens are contained in the file?**"
      ]
    },
    {
      "cell_type": "code",
      "execution_count": null,
      "metadata": {
        "id": "GXgKLU0Huhvu",
        "colab": {
          "base_uri": "https://localhost:8080/"
        },
        "outputId": "5e872a2f-5486-436e-f64e-6414dad89213"
      },
      "outputs": [
        {
          "output_type": "stream",
          "name": "stdout",
          "text": [
            "The total tokens in the text are: 4663\n"
          ]
        }
      ],
      "source": [
        "num_tokens= len(doc)\n",
        "print(\"The total tokens in the text are:\",num_tokens)"
      ]
    },
    {
      "cell_type": "markdown",
      "metadata": {
        "id": "KoAK1Uwtuhvv"
      },
      "source": [
        "**Task #3. How many sentences are contained in the file?**<br>HINT: You'll want to build a list first!"
      ]
    },
    {
      "cell_type": "code",
      "execution_count": null,
      "metadata": {
        "id": "oBv8HUwsuhvv",
        "colab": {
          "base_uri": "https://localhost:8080/"
        },
        "outputId": "c0ecbd69-8d54-4352-f60e-20dd1f24a881"
      },
      "outputs": [
        {
          "output_type": "stream",
          "name": "stdout",
          "text": [
            "The number of sentences in the text are: 203\n"
          ]
        }
      ],
      "source": [
        "num_sents=list(doc.sents)\n",
        "print(\"The number of sentences in the text are:\",len(num_sents))\n"
      ]
    },
    {
      "cell_type": "markdown",
      "metadata": {
        "id": "xEHSgWfvuhvv"
      },
      "source": [
        "**Task #4. Print the second sentence in the document**<br> HINT: Indexing starts at zero, and the title counts as the first sentence."
      ]
    },
    {
      "cell_type": "code",
      "execution_count": null,
      "metadata": {
        "id": "myAFwoZouhvv",
        "colab": {
          "base_uri": "https://localhost:8080/"
        },
        "outputId": "04f8a4c8-6ec2-4ae5-fc2c-48e9918a8b30"
      },
      "outputs": [
        {
          "output_type": "stream",
          "name": "stdout",
          "text": [
            "The second sentence in the doc is:\n",
            " The man’s hands were behind his\n",
            "back, the wrists bound with a cord.\n"
          ]
        }
      ],
      "source": [
        "print(\"The second sentence in the doc is:\\n\",num_sents[1])"
      ]
    },
    {
      "cell_type": "markdown",
      "metadata": {
        "id": "2R13d6bpuhvv"
      },
      "source": [
        "**Task #5. For each token in the sentence above, print its `text`, `POS` tag, `dep` tag and `lemma`**"
      ]
    },
    {
      "cell_type": "code",
      "execution_count": null,
      "metadata": {
        "id": "ZdnIoit_uhvv",
        "colab": {
          "base_uri": "https://localhost:8080/"
        },
        "outputId": "bd6edb2e-fe37-489b-f14d-cda9134288a3"
      },
      "outputs": [
        {
          "output_type": "stream",
          "name": "stdout",
          "text": [
            "The-> DET ->det ->the\n",
            "man-> NOUN ->poss ->man\n",
            "’s-> PART ->case ->’s\n",
            "hands-> NOUN ->nsubj ->hand\n",
            "were-> AUX ->ROOT ->be\n",
            "behind-> ADP ->prep ->behind\n",
            "his-> PRON ->poss ->his\n",
            "\n",
            "-> SPACE ->dep ->\n",
            "\n",
            "back-> NOUN ->pobj ->back\n",
            ",-> PUNCT ->punct ->,\n",
            "the-> DET ->det ->the\n",
            "wrists-> NOUN ->appos ->wrist\n",
            "bound-> VERB ->acl ->bind\n",
            "with-> ADP ->prep ->with\n",
            "a-> DET ->det ->a\n",
            "cord-> NOUN ->pobj ->cord\n",
            ".-> PUNCT ->punct ->.\n"
          ]
        }
      ],
      "source": [
        "# NORMAL SOLUTION:\n",
        "\n",
        "for token in num_sents[1]:\n",
        "    print(f\"{token.text}-> {token.pos_} ->{token.dep_} ->{token.lemma_}\")"
      ]
    },
    {
      "cell_type": "markdown",
      "source": [
        "**Task #6. CHALLENGE: For each token in the sentence above, Have values line up in columns in the print output.**"
      ],
      "metadata": {
        "id": "5KBATf0JvPLR"
      }
    },
    {
      "cell_type": "code",
      "execution_count": null,
      "metadata": {
        "id": "6G9XRKeLuhvw",
        "colab": {
          "base_uri": "https://localhost:8080/"
        },
        "outputId": "51ec65a3-18fe-4f6a-dbf9-0628333582a1"
      },
      "outputs": [
        {
          "output_type": "stream",
          "name": "stdout",
          "text": [
            "Text            POS             Dependency      Lemma          \n",
            "The             DET             det             the            \n",
            "man             NOUN            poss            man            \n",
            "’s              PART            case            ’s             \n",
            "hands           NOUN            nsubj           hand           \n",
            "were            AUX             ROOT            be             \n",
            "behind          ADP             prep            behind         \n",
            "his             PRON            poss            his            \n",
            "\n",
            "               SPACE           dep             \n",
            "              \n",
            "back            NOUN            pobj            back           \n",
            ",               PUNCT           punct           ,              \n",
            "the             DET             det             the            \n",
            "wrists          NOUN            appos           wrist          \n",
            "bound           VERB            acl             bind           \n",
            "with            ADP             prep            with           \n",
            "a               DET             det             a              \n",
            "cord            NOUN            pobj            cord           \n",
            ".               PUNCT           punct           .              \n"
          ]
        }
      ],
      "source": [
        "# CHALLENGE SOLUTION:\n",
        "print(\"{:<15} {:<15} {:<15} {:<15}\".format(\"Text\", \"POS\", \"Dependency\", \"Lemma\"))\n",
        "for token in num_sents[1]:\n",
        "    print(\"{:<15} {:<15} {:<15} {:<15}\".format(token.text, token.pos_, token.dep_, token.lemma_))\n",
        "\n"
      ]
    },
    {
      "cell_type": "markdown",
      "metadata": {
        "id": "JLjefoKvuhvw"
      },
      "source": [
        "**Task #7. Write a matcher called 'Swimming' that finds both occurrences of the phrase \"swimming vigorously\" in the text**<br>\n",
        "HINT: You should include an `'IS_SPACE': True` pattern between the two words!"
      ]
    },
    {
      "cell_type": "code",
      "execution_count": null,
      "metadata": {
        "id": "99DSVdnCuhvw"
      },
      "outputs": [],
      "source": [
        "# Import the Matcher library:\n",
        "\n",
        "from spacy.matcher import Matcher\n",
        "matcher = Matcher(nlp.vocab)"
      ]
    },
    {
      "cell_type": "code",
      "execution_count": null,
      "metadata": {
        "id": "2PwxsK7luhvw",
        "colab": {
          "base_uri": "https://localhost:8080/"
        },
        "outputId": "f09fc75a-14d4-445b-d5e2-4f4ec4563cdd"
      },
      "outputs": [
        {
          "output_type": "execute_result",
          "data": {
            "text/plain": [
              "[(13245044497498710760, 1222, 1225), (13245044497498710760, 3480, 3483)]"
            ]
          },
          "metadata": {},
          "execution_count": 68
        }
      ],
      "source": [
        "\n",
        "pattern = [{\"LOWER\": \"swimming\"}, {\"IS_SPACE\": True}, {\"LOWER\": \"vigorously\"}]\n",
        "matcher.add(\"SwimmingVigorously\", [pattern])\n",
        "\n",
        "# Create a list of matches called \"found_matches\"\n",
        "found_matches = matcher(doc)\n",
        "found_matches\n",
        "\n",
        "\n"
      ]
    },
    {
      "cell_type": "code",
      "execution_count": null,
      "metadata": {
        "id": "MzfP5nKruhvw",
        "colab": {
          "base_uri": "https://localhost:8080/"
        },
        "outputId": "705b1e5d-f81b-4cc5-c314-3b32ba718615"
      },
      "outputs": [
        {
          "output_type": "stream",
          "name": "stdout",
          "text": [
            "[(13245044497498710760, 1222, 1225), (13245044497498710760, 3480, 3483)]\n",
            "Found Match: swimming\n",
            "vigorously\n",
            "Found Match: swimming\n",
            "vigorously\n"
          ]
        }
      ],
      "source": [
        "# Create a list of matches called \"found_matches\" and print the list:\n",
        "\n",
        "found_matches =matcher(doc)\n",
        "print(found_matches)\n",
        "for match_id, start, end in found_matches:\n",
        "    matched_text = doc[start:end].text\n",
        "    print(\"Found Match:\", matched_text)"
      ]
    },
    {
      "cell_type": "markdown",
      "metadata": {
        "id": "94nC8AQwuhvw"
      },
      "source": [
        "**Task #8. Print the text surrounding each found match**"
      ]
    },
    {
      "cell_type": "code",
      "execution_count": null,
      "metadata": {
        "id": "xxrA7A_muhvw",
        "colab": {
          "base_uri": "https://localhost:8080/"
        },
        "outputId": "81a64d76-5b93-4d2c-fa20-8756f64330c1"
      },
      "outputs": [
        {
          "output_type": "stream",
          "name": "stdout",
          "text": [
            "evade the bullets and, swimming\n",
            "vigorously, reach the bank,\n",
            "shoulder; he was now swimming\n",
            "vigorously with the current. His\n"
          ]
        }
      ],
      "source": [
        "for match_id, start, end in found_matches:\n",
        "    matched_text = doc[start - 5 :end + 5 ] # 5 here denotes the number of tokens surrouundung the start and end tokens.\n",
        "    print(matched_text.text)\n"
      ]
    },
    {
      "cell_type": "markdown",
      "metadata": {
        "id": "Kdj_x66euhvx"
      },
      "source": [
        "**Task #9. Print the *sentence* that contains each found match**"
      ]
    },
    {
      "cell_type": "code",
      "execution_count": null,
      "metadata": {
        "id": "DrNwafn_uhvx",
        "colab": {
          "base_uri": "https://localhost:8080/"
        },
        "outputId": "b82de3b3-08b2-4841-86e0-1f2359c313ae"
      },
      "outputs": [
        {
          "output_type": "stream",
          "name": "stdout",
          "text": [
            "Sentence with Match: By diving I could evade the bullets and, swimming\n",
            "vigorously, reach the bank, take to the woods and get away home.\n",
            "Sentence with Match: The hunted man saw all this over his shoulder; he was now swimming\n",
            "vigorously with the current.\n"
          ]
        }
      ],
      "source": [
        "for match_id, start, end in found_matches:\n",
        "    # Find the sentence containing the match\n",
        "    sentence_containing_match = next(sent for sent in doc.sents if start < sent.end)\n",
        "    print(\"Sentence with Match:\", sentence_containing_match.text)"
      ]
    },
    {
      "cell_type": "markdown",
      "metadata": {
        "id": "WVmaegTouhvx"
      },
      "source": [
        "# Section 2 - Parts of Speech Assessment"
      ]
    },
    {
      "cell_type": "markdown",
      "metadata": {
        "id": "FMi1fffls0hs"
      },
      "source": [
        "For this assessment we'll be using the short story [The Tale of Peter Rabbit](https://en.wikipedia.org/wiki/The_Tale_of_Peter_Rabbit) by Beatrix Potter (1902). <br>The story is in the public domain; the text file was obtained from [Project Gutenberg](https://www.gutenberg.org/ebooks/14838.txt.utf-8)."
      ]
    },
    {
      "cell_type": "code",
      "execution_count": null,
      "metadata": {
        "id": "ztc4scZUs0ht"
      },
      "outputs": [],
      "source": [
        "# RUN THIS CELL to perform standard imports:\n",
        "import spacy\n",
        "nlp = spacy.load('en_core_web_sm')\n",
        "from spacy import displacy"
      ]
    },
    {
      "cell_type": "markdown",
      "metadata": {
        "id": "7O9ChY6Hs0hx"
      },
      "source": [
        "**Task #1. Create a Doc object from the file `peterrabbit.txt`**<br>\n",
        "> HINT: Use `with open('../TextFiles/peterrabbit.txt') as f:`"
      ]
    },
    {
      "cell_type": "code",
      "execution_count": null,
      "metadata": {
        "id": "5NsRoCl2s0hy"
      },
      "outputs": [],
      "source": [
        "with open(\"/content/peterrabbit.txt\") as f:\n",
        "  s=f.read()\n",
        "doc = nlp(s)\n"
      ]
    },
    {
      "cell_type": "markdown",
      "metadata": {
        "id": "Q3e-ZrBWs0hy"
      },
      "source": [
        "**Task #2. For every token in the third sentence, print the token text, the POS tag, the fine-grained TAG tag, and the description of the fine-grained tag.**"
      ]
    },
    {
      "cell_type": "code",
      "execution_count": null,
      "metadata": {
        "id": "UJETqf7ss0hz",
        "colab": {
          "base_uri": "https://localhost:8080/"
        },
        "outputId": "20cff3fe-834b-4e12-d1dd-6098fb8deed0"
      },
      "outputs": [
        {
          "output_type": "stream",
          "name": "stdout",
          "text": [
            "Token Text: '               POS Tag: VERB     TAG Tag: VBP    Description: verb, non-3rd person singular present\n",
            "Token Text: Now             POS Tag: ADV      TAG Tag: RB     Description: adverb\n",
            "Token Text: my              POS Tag: PRON     TAG Tag: PRP$   Description: pronoun, possessive\n",
            "Token Text: dears           POS Tag: NOUN     TAG Tag: NNS    Description: noun, plural\n",
            "Token Text: ,               POS Tag: PUNCT    TAG Tag: ,      Description: punctuation mark, comma\n",
            "Token Text: '               POS Tag: PUNCT    TAG Tag: ''     Description: closing quotation mark\n",
            "Token Text: said            POS Tag: VERB     TAG Tag: VBD    Description: verb, past tense\n",
            "Token Text: old             POS Tag: ADJ      TAG Tag: JJ     Description: adjective (English), other noun-modifier (Chinese)\n",
            "Token Text: Mrs.            POS Tag: PROPN    TAG Tag: NNP    Description: noun, proper singular\n",
            "Token Text: Rabbit          POS Tag: PROPN    TAG Tag: NNP    Description: noun, proper singular\n",
            "Token Text: one             POS Tag: NUM      TAG Tag: CD     Description: cardinal number\n",
            "Token Text: morning         POS Tag: NOUN     TAG Tag: NN     Description: noun, singular or mass\n",
            "Token Text: ,               POS Tag: PUNCT    TAG Tag: ,      Description: punctuation mark, comma\n",
            "Token Text: '               POS Tag: PUNCT    TAG Tag: ``     Description: opening quotation mark\n",
            "Token Text: you             POS Tag: PRON     TAG Tag: PRP    Description: pronoun, personal\n",
            "Token Text: may             POS Tag: AUX      TAG Tag: MD     Description: verb, modal auxiliary\n",
            "Token Text: go              POS Tag: VERB     TAG Tag: VB     Description: verb, base form\n",
            "Token Text: into            POS Tag: ADP      TAG Tag: IN     Description: conjunction, subordinating or preposition\n",
            "Token Text: \n",
            "               POS Tag: SPACE    TAG Tag: _SP    Description: whitespace\n",
            "Token Text: the             POS Tag: DET      TAG Tag: DT     Description: determiner\n",
            "Token Text: fields          POS Tag: NOUN     TAG Tag: NNS    Description: noun, plural\n",
            "Token Text: or              POS Tag: CCONJ    TAG Tag: CC     Description: conjunction, coordinating\n",
            "Token Text: down            POS Tag: ADP      TAG Tag: IN     Description: conjunction, subordinating or preposition\n",
            "Token Text: the             POS Tag: DET      TAG Tag: DT     Description: determiner\n",
            "Token Text: lane            POS Tag: NOUN     TAG Tag: NN     Description: noun, singular or mass\n",
            "Token Text: ,               POS Tag: PUNCT    TAG Tag: ,      Description: punctuation mark, comma\n",
            "Token Text: but             POS Tag: CCONJ    TAG Tag: CC     Description: conjunction, coordinating\n",
            "Token Text: do              POS Tag: AUX      TAG Tag: VBP    Description: verb, non-3rd person singular present\n",
            "Token Text: n't             POS Tag: PART     TAG Tag: RB     Description: adverb\n",
            "Token Text: go              POS Tag: VERB     TAG Tag: VB     Description: verb, base form\n",
            "Token Text: into            POS Tag: ADP      TAG Tag: IN     Description: conjunction, subordinating or preposition\n",
            "Token Text: Mr.             POS Tag: PROPN    TAG Tag: NNP    Description: noun, proper singular\n",
            "Token Text: McGregor        POS Tag: PROPN    TAG Tag: NNP    Description: noun, proper singular\n",
            "Token Text: 's              POS Tag: PART     TAG Tag: POS    Description: possessive ending\n",
            "Token Text: garden          POS Tag: NOUN     TAG Tag: NN     Description: noun, singular or mass\n",
            "Token Text: :               POS Tag: PUNCT    TAG Tag: :      Description: punctuation mark, colon or ellipsis\n",
            "Token Text: \n",
            "               POS Tag: SPACE    TAG Tag: _SP    Description: whitespace\n",
            "Token Text: your            POS Tag: PRON     TAG Tag: PRP$   Description: pronoun, possessive\n",
            "Token Text: Father          POS Tag: PROPN    TAG Tag: NNP    Description: noun, proper singular\n",
            "Token Text: had             POS Tag: VERB     TAG Tag: VBD    Description: verb, past tense\n",
            "Token Text: an              POS Tag: DET      TAG Tag: DT     Description: determiner\n",
            "Token Text: accident        POS Tag: NOUN     TAG Tag: NN     Description: noun, singular or mass\n",
            "Token Text: there           POS Tag: ADV      TAG Tag: RB     Description: adverb\n",
            "Token Text: ;               POS Tag: PUNCT    TAG Tag: :      Description: punctuation mark, colon or ellipsis\n",
            "Token Text: he              POS Tag: PRON     TAG Tag: PRP    Description: pronoun, personal\n",
            "Token Text: was             POS Tag: AUX      TAG Tag: VBD    Description: verb, past tense\n",
            "Token Text: put             POS Tag: VERB     TAG Tag: VBN    Description: verb, past participle\n",
            "Token Text: in              POS Tag: ADP      TAG Tag: IN     Description: conjunction, subordinating or preposition\n",
            "Token Text: a               POS Tag: DET      TAG Tag: DT     Description: determiner\n",
            "Token Text: pie             POS Tag: NOUN     TAG Tag: NN     Description: noun, singular or mass\n",
            "Token Text: by              POS Tag: ADP      TAG Tag: IN     Description: conjunction, subordinating or preposition\n",
            "Token Text: Mrs.            POS Tag: PROPN    TAG Tag: NNP    Description: noun, proper singular\n",
            "Token Text: \n",
            "               POS Tag: SPACE    TAG Tag: _SP    Description: whitespace\n",
            "Token Text: McGregor        POS Tag: PROPN    TAG Tag: NNP    Description: noun, proper singular\n",
            "Token Text: .               POS Tag: PUNCT    TAG Tag: .      Description: punctuation mark, sentence closer\n",
            "Token Text: '               POS Tag: PUNCT    TAG Tag: ''     Description: closing quotation mark\n",
            "Token Text: \n",
            "\n",
            "              POS Tag: SPACE    TAG Tag: _SP    Description: whitespace\n",
            "Token Text: '               POS Tag: VERB     TAG Tag: VBP    Description: verb, non-3rd person singular present\n",
            "Token Text: Now             POS Tag: ADV      TAG Tag: RB     Description: adverb\n",
            "Token Text: run             POS Tag: VERB     TAG Tag: VBP    Description: verb, non-3rd person singular present\n",
            "Token Text: along           POS Tag: ADV      TAG Tag: RB     Description: adverb\n",
            "Token Text: ,               POS Tag: PUNCT    TAG Tag: ,      Description: punctuation mark, comma\n",
            "Token Text: and             POS Tag: CCONJ    TAG Tag: CC     Description: conjunction, coordinating\n",
            "Token Text: do              POS Tag: AUX      TAG Tag: VBP    Description: verb, non-3rd person singular present\n",
            "Token Text: n't             POS Tag: PART     TAG Tag: RB     Description: adverb\n",
            "Token Text: get             POS Tag: VERB     TAG Tag: VB     Description: verb, base form\n",
            "Token Text: into            POS Tag: ADP      TAG Tag: IN     Description: conjunction, subordinating or preposition\n",
            "Token Text: mischief        POS Tag: NOUN     TAG Tag: NN     Description: noun, singular or mass\n",
            "Token Text: .               POS Tag: PUNCT    TAG Tag: .      Description: punctuation mark, sentence closer\n"
          ]
        }
      ],
      "source": [
        "# Enter your code here:\n",
        "\n",
        "for sent_num, sent in enumerate(doc.sents, start=1):\n",
        "    if sent_num == 3:\n",
        "        for token in sent:\n",
        "            print(f'Token Text: {token.text:{15}} POS Tag: {token.pos_:{8}} TAG Tag: {token.tag_:{6}} Description: {spacy.explain(token.tag_)}')\n",
        "        break\n"
      ]
    },
    {
      "cell_type": "markdown",
      "metadata": {
        "id": "4x470orRs0h2"
      },
      "source": [
        "**Task #3. Provide a frequency list of POS tags from the entire document**"
      ]
    },
    {
      "cell_type": "code",
      "execution_count": null,
      "metadata": {
        "id": "Po2HvLyXs0h2",
        "colab": {
          "base_uri": "https://localhost:8080/"
        },
        "outputId": "e6ea6933-33d5-4278-87df-b95732969e90"
      },
      "outputs": [
        {
          "output_type": "stream",
          "name": "stdout",
          "text": [
            "86.\tADV  \t63\n",
            "98.\tSCONJ\t19\n",
            "90.\tDET  \t89\n",
            "92.\tNOUN \t172\n",
            "95.\tPRON \t110\n",
            "100.\tVERB \t135\n",
            "93.\tNUM  \t8\n",
            "84.\tADJ  \t53\n",
            "97.\tPUNCT\t167\n",
            "89.\tCCONJ\t61\n",
            "103.\tSPACE\t97\n",
            "96.\tPROPN\t69\n",
            "85.\tADP  \t123\n",
            "87.\tAUX  \t49\n",
            "94.\tPART \t28\n"
          ]
        }
      ],
      "source": [
        "pos_frequency = doc.count_by(spacy.attrs.POS)\n",
        "for key, value in pos_frequency.items():\n",
        "    print(f'{key}.\\t{doc.vocab[key].text:{5}}\\t{value}')"
      ]
    },
    {
      "cell_type": "markdown",
      "metadata": {
        "id": "FoTNmXZ8s0h4"
      },
      "source": [
        "**Task 4. CHALLENGE: What percentage of tokens are nouns?**<br>\n",
        "HINT: the attribute ID for 'NOUN' is 91"
      ]
    },
    {
      "cell_type": "code",
      "execution_count": null,
      "metadata": {
        "id": "CLlbs4P5s0h4",
        "colab": {
          "base_uri": "https://localhost:8080/"
        },
        "outputId": "5a78b396-6d71-4fc5-cc50-ccf2a4a7e3e0"
      },
      "outputs": [
        {
          "output_type": "stream",
          "name": "stdout",
          "text": [
            "The percentage of noun tags in total tags is: 13.84%\n"
          ]
        }
      ],
      "source": [
        "total_tags = 0\n",
        "noun_tags = 0\n",
        "for token in doc:\n",
        "    total_tags += 1\n",
        "    if token.pos == 92:\n",
        "        noun_tags += 1\n",
        "\n",
        "\n",
        "percent_nouns = (noun_tags / total_tags) * 100\n",
        "print(f\"The percentage of noun tags in total tags is: {percent_nouns:.2f}%\")\n"
      ]
    },
    {
      "cell_type": "markdown",
      "metadata": {
        "id": "Qume_ILgs0h5"
      },
      "source": [
        "**Task 5. Display the Dependency Parse for the third sentence**"
      ]
    },
    {
      "cell_type": "code",
      "execution_count": null,
      "metadata": {
        "id": "K5J2onrvs0h6",
        "colab": {
          "base_uri": "https://localhost:8080/",
          "height": 1000
        },
        "outputId": "c5d5fa99-7579-4ba8-99b0-68553d90b9b8"
      },
      "outputs": [
        {
          "output_type": "stream",
          "name": "stdout",
          "text": [
            "'          VERB      punct  punctuation\n",
            "Now        ADV       advmod adverbial modifier\n",
            "my         PRON      poss   possession modifier\n",
            "dears      NOUN      nsubj  nominal subject\n",
            ",          PUNCT     punct  punctuation\n",
            "'          PUNCT     punct  punctuation\n",
            "said       VERB      ROOT   root\n",
            "old        ADJ       amod   adjectival modifier\n",
            "Mrs.       PROPN     compound compound\n",
            "Rabbit     PROPN     nsubj  nominal subject\n",
            "one        NUM       nummod numeric modifier\n",
            "morning    NOUN      npadvmod noun phrase as adverbial modifier\n",
            ",          PUNCT     punct  punctuation\n",
            "'          PUNCT     punct  punctuation\n",
            "you        PRON      nsubj  nominal subject\n",
            "may        AUX       aux    auxiliary\n",
            "go         VERB      ccomp  clausal complement\n",
            "into       ADP       prep   prepositional modifier\n",
            "\n",
            "          SPACE     dep    unclassified dependent\n",
            "the        DET       det    determiner\n",
            "fields     NOUN      pobj   object of preposition\n",
            "or         CCONJ     cc     coordinating conjunction\n",
            "down       ADP       conj   conjunct\n",
            "the        DET       det    determiner\n",
            "lane       NOUN      pobj   object of preposition\n",
            ",          PUNCT     punct  punctuation\n",
            "but        CCONJ     cc     coordinating conjunction\n",
            "do         AUX       aux    auxiliary\n",
            "n't        PART      neg    negation modifier\n",
            "go         VERB      conj   conjunct\n",
            "into       ADP       prep   prepositional modifier\n",
            "Mr.        PROPN     compound compound\n",
            "McGregor   PROPN     poss   possession modifier\n",
            "'s         PART      case   case marking\n",
            "garden     NOUN      pobj   object of preposition\n",
            ":          PUNCT     punct  punctuation\n",
            "\n",
            "          SPACE     dep    unclassified dependent\n",
            "your       PRON      poss   possession modifier\n",
            "Father     PROPN     nsubj  nominal subject\n",
            "had        VERB      ccomp  clausal complement\n",
            "an         DET       det    determiner\n",
            "accident   NOUN      dobj   direct object\n",
            "there      ADV       advmod adverbial modifier\n",
            ";          PUNCT     punct  punctuation\n",
            "he         PRON      nsubjpass nominal subject (passive)\n",
            "was        AUX       auxpass auxiliary (passive)\n",
            "put        VERB      ccomp  clausal complement\n",
            "in         ADP       prep   prepositional modifier\n",
            "a          DET       det    determiner\n",
            "pie        NOUN      pobj   object of preposition\n",
            "by         ADP       agent  agent\n",
            "Mrs.       PROPN     compound compound\n",
            "\n",
            "          SPACE     dep    unclassified dependent\n",
            "McGregor   PROPN     pobj   object of preposition\n",
            ".          PUNCT     punct  punctuation\n",
            "'          PUNCT     punct  punctuation\n",
            "\n",
            "\n",
            "         SPACE     dep    unclassified dependent\n",
            "'          VERB      punct  punctuation\n",
            "Now        ADV       advmod adverbial modifier\n",
            "run        VERB      dobj   direct object\n",
            "along      ADV       advmod adverbial modifier\n",
            ",          PUNCT     punct  punctuation\n",
            "and        CCONJ     cc     coordinating conjunction\n",
            "do         AUX       aux    auxiliary\n",
            "n't        PART      neg    negation modifier\n",
            "get        VERB      conj   conjunct\n",
            "into       ADP       prep   prepositional modifier\n",
            "mischief   NOUN      pobj   object of preposition\n",
            ".          PUNCT     punct  punctuation\n"
          ]
        },
        {
          "output_type": "display_data",
          "data": {
            "text/plain": [
              "<IPython.core.display.HTML object>"
            ],
            "text/html": [
              "<span class=\"tex2jax_ignore\"><svg xmlns=\"http://www.w3.org/2000/svg\" xmlns:xlink=\"http://www.w3.org/1999/xlink\" xml:lang=\"en\" id=\"bc77b3de69834aa89de979f3cebcc961-0\" class=\"displacy\" width=\"6320\" height=\"577.0\" direction=\"ltr\" style=\"max-width: none; height: 577.0px; color: #000000; background: #ffffff; font-family: Arial; direction: ltr\">\n",
              "<text class=\"displacy-token\" fill=\"currentColor\" text-anchor=\"middle\" y=\"487.0\">\n",
              "    <tspan class=\"displacy-word\" fill=\"currentColor\" x=\"50\">'</tspan>\n",
              "    <tspan class=\"displacy-tag\" dy=\"2em\" fill=\"currentColor\" x=\"50\">VERB</tspan>\n",
              "</text>\n",
              "\n",
              "<text class=\"displacy-token\" fill=\"currentColor\" text-anchor=\"middle\" y=\"487.0\">\n",
              "    <tspan class=\"displacy-word\" fill=\"currentColor\" x=\"160\">Now</tspan>\n",
              "    <tspan class=\"displacy-tag\" dy=\"2em\" fill=\"currentColor\" x=\"160\">ADV</tspan>\n",
              "</text>\n",
              "\n",
              "<text class=\"displacy-token\" fill=\"currentColor\" text-anchor=\"middle\" y=\"487.0\">\n",
              "    <tspan class=\"displacy-word\" fill=\"currentColor\" x=\"270\">my</tspan>\n",
              "    <tspan class=\"displacy-tag\" dy=\"2em\" fill=\"currentColor\" x=\"270\">PRON</tspan>\n",
              "</text>\n",
              "\n",
              "<text class=\"displacy-token\" fill=\"currentColor\" text-anchor=\"middle\" y=\"487.0\">\n",
              "    <tspan class=\"displacy-word\" fill=\"currentColor\" x=\"380\">dears,'</tspan>\n",
              "    <tspan class=\"displacy-tag\" dy=\"2em\" fill=\"currentColor\" x=\"380\">NOUN</tspan>\n",
              "</text>\n",
              "\n",
              "<text class=\"displacy-token\" fill=\"currentColor\" text-anchor=\"middle\" y=\"487.0\">\n",
              "    <tspan class=\"displacy-word\" fill=\"currentColor\" x=\"490\">said</tspan>\n",
              "    <tspan class=\"displacy-tag\" dy=\"2em\" fill=\"currentColor\" x=\"490\">VERB</tspan>\n",
              "</text>\n",
              "\n",
              "<text class=\"displacy-token\" fill=\"currentColor\" text-anchor=\"middle\" y=\"487.0\">\n",
              "    <tspan class=\"displacy-word\" fill=\"currentColor\" x=\"600\">old</tspan>\n",
              "    <tspan class=\"displacy-tag\" dy=\"2em\" fill=\"currentColor\" x=\"600\">ADJ</tspan>\n",
              "</text>\n",
              "\n",
              "<text class=\"displacy-token\" fill=\"currentColor\" text-anchor=\"middle\" y=\"487.0\">\n",
              "    <tspan class=\"displacy-word\" fill=\"currentColor\" x=\"710\">Mrs.</tspan>\n",
              "    <tspan class=\"displacy-tag\" dy=\"2em\" fill=\"currentColor\" x=\"710\">PROPN</tspan>\n",
              "</text>\n",
              "\n",
              "<text class=\"displacy-token\" fill=\"currentColor\" text-anchor=\"middle\" y=\"487.0\">\n",
              "    <tspan class=\"displacy-word\" fill=\"currentColor\" x=\"820\">Rabbit</tspan>\n",
              "    <tspan class=\"displacy-tag\" dy=\"2em\" fill=\"currentColor\" x=\"820\">PROPN</tspan>\n",
              "</text>\n",
              "\n",
              "<text class=\"displacy-token\" fill=\"currentColor\" text-anchor=\"middle\" y=\"487.0\">\n",
              "    <tspan class=\"displacy-word\" fill=\"currentColor\" x=\"930\">one</tspan>\n",
              "    <tspan class=\"displacy-tag\" dy=\"2em\" fill=\"currentColor\" x=\"930\">NUM</tspan>\n",
              "</text>\n",
              "\n",
              "<text class=\"displacy-token\" fill=\"currentColor\" text-anchor=\"middle\" y=\"487.0\">\n",
              "    <tspan class=\"displacy-word\" fill=\"currentColor\" x=\"1040\">morning, '</tspan>\n",
              "    <tspan class=\"displacy-tag\" dy=\"2em\" fill=\"currentColor\" x=\"1040\">NOUN</tspan>\n",
              "</text>\n",
              "\n",
              "<text class=\"displacy-token\" fill=\"currentColor\" text-anchor=\"middle\" y=\"487.0\">\n",
              "    <tspan class=\"displacy-word\" fill=\"currentColor\" x=\"1150\">you</tspan>\n",
              "    <tspan class=\"displacy-tag\" dy=\"2em\" fill=\"currentColor\" x=\"1150\">PRON</tspan>\n",
              "</text>\n",
              "\n",
              "<text class=\"displacy-token\" fill=\"currentColor\" text-anchor=\"middle\" y=\"487.0\">\n",
              "    <tspan class=\"displacy-word\" fill=\"currentColor\" x=\"1260\">may</tspan>\n",
              "    <tspan class=\"displacy-tag\" dy=\"2em\" fill=\"currentColor\" x=\"1260\">AUX</tspan>\n",
              "</text>\n",
              "\n",
              "<text class=\"displacy-token\" fill=\"currentColor\" text-anchor=\"middle\" y=\"487.0\">\n",
              "    <tspan class=\"displacy-word\" fill=\"currentColor\" x=\"1370\">go</tspan>\n",
              "    <tspan class=\"displacy-tag\" dy=\"2em\" fill=\"currentColor\" x=\"1370\">VERB</tspan>\n",
              "</text>\n",
              "\n",
              "<text class=\"displacy-token\" fill=\"currentColor\" text-anchor=\"middle\" y=\"487.0\">\n",
              "    <tspan class=\"displacy-word\" fill=\"currentColor\" x=\"1480\">into</tspan>\n",
              "    <tspan class=\"displacy-tag\" dy=\"2em\" fill=\"currentColor\" x=\"1480\">ADP</tspan>\n",
              "</text>\n",
              "\n",
              "<text class=\"displacy-token\" fill=\"currentColor\" text-anchor=\"middle\" y=\"487.0\">\n",
              "    <tspan class=\"displacy-word\" fill=\"currentColor\" x=\"1590\">\n",
              "</tspan>\n",
              "    <tspan class=\"displacy-tag\" dy=\"2em\" fill=\"currentColor\" x=\"1590\">SPACE</tspan>\n",
              "</text>\n",
              "\n",
              "<text class=\"displacy-token\" fill=\"currentColor\" text-anchor=\"middle\" y=\"487.0\">\n",
              "    <tspan class=\"displacy-word\" fill=\"currentColor\" x=\"1700\">the</tspan>\n",
              "    <tspan class=\"displacy-tag\" dy=\"2em\" fill=\"currentColor\" x=\"1700\">DET</tspan>\n",
              "</text>\n",
              "\n",
              "<text class=\"displacy-token\" fill=\"currentColor\" text-anchor=\"middle\" y=\"487.0\">\n",
              "    <tspan class=\"displacy-word\" fill=\"currentColor\" x=\"1810\">fields</tspan>\n",
              "    <tspan class=\"displacy-tag\" dy=\"2em\" fill=\"currentColor\" x=\"1810\">NOUN</tspan>\n",
              "</text>\n",
              "\n",
              "<text class=\"displacy-token\" fill=\"currentColor\" text-anchor=\"middle\" y=\"487.0\">\n",
              "    <tspan class=\"displacy-word\" fill=\"currentColor\" x=\"1920\">or</tspan>\n",
              "    <tspan class=\"displacy-tag\" dy=\"2em\" fill=\"currentColor\" x=\"1920\">CCONJ</tspan>\n",
              "</text>\n",
              "\n",
              "<text class=\"displacy-token\" fill=\"currentColor\" text-anchor=\"middle\" y=\"487.0\">\n",
              "    <tspan class=\"displacy-word\" fill=\"currentColor\" x=\"2030\">down</tspan>\n",
              "    <tspan class=\"displacy-tag\" dy=\"2em\" fill=\"currentColor\" x=\"2030\">ADP</tspan>\n",
              "</text>\n",
              "\n",
              "<text class=\"displacy-token\" fill=\"currentColor\" text-anchor=\"middle\" y=\"487.0\">\n",
              "    <tspan class=\"displacy-word\" fill=\"currentColor\" x=\"2140\">the</tspan>\n",
              "    <tspan class=\"displacy-tag\" dy=\"2em\" fill=\"currentColor\" x=\"2140\">DET</tspan>\n",
              "</text>\n",
              "\n",
              "<text class=\"displacy-token\" fill=\"currentColor\" text-anchor=\"middle\" y=\"487.0\">\n",
              "    <tspan class=\"displacy-word\" fill=\"currentColor\" x=\"2250\">lane,</tspan>\n",
              "    <tspan class=\"displacy-tag\" dy=\"2em\" fill=\"currentColor\" x=\"2250\">NOUN</tspan>\n",
              "</text>\n",
              "\n",
              "<text class=\"displacy-token\" fill=\"currentColor\" text-anchor=\"middle\" y=\"487.0\">\n",
              "    <tspan class=\"displacy-word\" fill=\"currentColor\" x=\"2360\">but</tspan>\n",
              "    <tspan class=\"displacy-tag\" dy=\"2em\" fill=\"currentColor\" x=\"2360\">CCONJ</tspan>\n",
              "</text>\n",
              "\n",
              "<text class=\"displacy-token\" fill=\"currentColor\" text-anchor=\"middle\" y=\"487.0\">\n",
              "    <tspan class=\"displacy-word\" fill=\"currentColor\" x=\"2470\">do</tspan>\n",
              "    <tspan class=\"displacy-tag\" dy=\"2em\" fill=\"currentColor\" x=\"2470\">AUX</tspan>\n",
              "</text>\n",
              "\n",
              "<text class=\"displacy-token\" fill=\"currentColor\" text-anchor=\"middle\" y=\"487.0\">\n",
              "    <tspan class=\"displacy-word\" fill=\"currentColor\" x=\"2580\">n't</tspan>\n",
              "    <tspan class=\"displacy-tag\" dy=\"2em\" fill=\"currentColor\" x=\"2580\">PART</tspan>\n",
              "</text>\n",
              "\n",
              "<text class=\"displacy-token\" fill=\"currentColor\" text-anchor=\"middle\" y=\"487.0\">\n",
              "    <tspan class=\"displacy-word\" fill=\"currentColor\" x=\"2690\">go</tspan>\n",
              "    <tspan class=\"displacy-tag\" dy=\"2em\" fill=\"currentColor\" x=\"2690\">VERB</tspan>\n",
              "</text>\n",
              "\n",
              "<text class=\"displacy-token\" fill=\"currentColor\" text-anchor=\"middle\" y=\"487.0\">\n",
              "    <tspan class=\"displacy-word\" fill=\"currentColor\" x=\"2800\">into</tspan>\n",
              "    <tspan class=\"displacy-tag\" dy=\"2em\" fill=\"currentColor\" x=\"2800\">ADP</tspan>\n",
              "</text>\n",
              "\n",
              "<text class=\"displacy-token\" fill=\"currentColor\" text-anchor=\"middle\" y=\"487.0\">\n",
              "    <tspan class=\"displacy-word\" fill=\"currentColor\" x=\"2910\">Mr.</tspan>\n",
              "    <tspan class=\"displacy-tag\" dy=\"2em\" fill=\"currentColor\" x=\"2910\">PROPN</tspan>\n",
              "</text>\n",
              "\n",
              "<text class=\"displacy-token\" fill=\"currentColor\" text-anchor=\"middle\" y=\"487.0\">\n",
              "    <tspan class=\"displacy-word\" fill=\"currentColor\" x=\"3020\">McGregor</tspan>\n",
              "    <tspan class=\"displacy-tag\" dy=\"2em\" fill=\"currentColor\" x=\"3020\">PROPN</tspan>\n",
              "</text>\n",
              "\n",
              "<text class=\"displacy-token\" fill=\"currentColor\" text-anchor=\"middle\" y=\"487.0\">\n",
              "    <tspan class=\"displacy-word\" fill=\"currentColor\" x=\"3130\">'s</tspan>\n",
              "    <tspan class=\"displacy-tag\" dy=\"2em\" fill=\"currentColor\" x=\"3130\">PART</tspan>\n",
              "</text>\n",
              "\n",
              "<text class=\"displacy-token\" fill=\"currentColor\" text-anchor=\"middle\" y=\"487.0\">\n",
              "    <tspan class=\"displacy-word\" fill=\"currentColor\" x=\"3240\">garden:</tspan>\n",
              "    <tspan class=\"displacy-tag\" dy=\"2em\" fill=\"currentColor\" x=\"3240\">PUNCT</tspan>\n",
              "</text>\n",
              "\n",
              "<text class=\"displacy-token\" fill=\"currentColor\" text-anchor=\"middle\" y=\"487.0\">\n",
              "    <tspan class=\"displacy-word\" fill=\"currentColor\" x=\"3350\">\n",
              "</tspan>\n",
              "    <tspan class=\"displacy-tag\" dy=\"2em\" fill=\"currentColor\" x=\"3350\">SPACE</tspan>\n",
              "</text>\n",
              "\n",
              "<text class=\"displacy-token\" fill=\"currentColor\" text-anchor=\"middle\" y=\"487.0\">\n",
              "    <tspan class=\"displacy-word\" fill=\"currentColor\" x=\"3460\">your</tspan>\n",
              "    <tspan class=\"displacy-tag\" dy=\"2em\" fill=\"currentColor\" x=\"3460\">PRON</tspan>\n",
              "</text>\n",
              "\n",
              "<text class=\"displacy-token\" fill=\"currentColor\" text-anchor=\"middle\" y=\"487.0\">\n",
              "    <tspan class=\"displacy-word\" fill=\"currentColor\" x=\"3570\">Father</tspan>\n",
              "    <tspan class=\"displacy-tag\" dy=\"2em\" fill=\"currentColor\" x=\"3570\">PROPN</tspan>\n",
              "</text>\n",
              "\n",
              "<text class=\"displacy-token\" fill=\"currentColor\" text-anchor=\"middle\" y=\"487.0\">\n",
              "    <tspan class=\"displacy-word\" fill=\"currentColor\" x=\"3680\">had</tspan>\n",
              "    <tspan class=\"displacy-tag\" dy=\"2em\" fill=\"currentColor\" x=\"3680\">VERB</tspan>\n",
              "</text>\n",
              "\n",
              "<text class=\"displacy-token\" fill=\"currentColor\" text-anchor=\"middle\" y=\"487.0\">\n",
              "    <tspan class=\"displacy-word\" fill=\"currentColor\" x=\"3790\">an</tspan>\n",
              "    <tspan class=\"displacy-tag\" dy=\"2em\" fill=\"currentColor\" x=\"3790\">DET</tspan>\n",
              "</text>\n",
              "\n",
              "<text class=\"displacy-token\" fill=\"currentColor\" text-anchor=\"middle\" y=\"487.0\">\n",
              "    <tspan class=\"displacy-word\" fill=\"currentColor\" x=\"3900\">accident</tspan>\n",
              "    <tspan class=\"displacy-tag\" dy=\"2em\" fill=\"currentColor\" x=\"3900\">NOUN</tspan>\n",
              "</text>\n",
              "\n",
              "<text class=\"displacy-token\" fill=\"currentColor\" text-anchor=\"middle\" y=\"487.0\">\n",
              "    <tspan class=\"displacy-word\" fill=\"currentColor\" x=\"4010\">there;</tspan>\n",
              "    <tspan class=\"displacy-tag\" dy=\"2em\" fill=\"currentColor\" x=\"4010\">ADV</tspan>\n",
              "</text>\n",
              "\n",
              "<text class=\"displacy-token\" fill=\"currentColor\" text-anchor=\"middle\" y=\"487.0\">\n",
              "    <tspan class=\"displacy-word\" fill=\"currentColor\" x=\"4120\">he</tspan>\n",
              "    <tspan class=\"displacy-tag\" dy=\"2em\" fill=\"currentColor\" x=\"4120\">PRON</tspan>\n",
              "</text>\n",
              "\n",
              "<text class=\"displacy-token\" fill=\"currentColor\" text-anchor=\"middle\" y=\"487.0\">\n",
              "    <tspan class=\"displacy-word\" fill=\"currentColor\" x=\"4230\">was</tspan>\n",
              "    <tspan class=\"displacy-tag\" dy=\"2em\" fill=\"currentColor\" x=\"4230\">AUX</tspan>\n",
              "</text>\n",
              "\n",
              "<text class=\"displacy-token\" fill=\"currentColor\" text-anchor=\"middle\" y=\"487.0\">\n",
              "    <tspan class=\"displacy-word\" fill=\"currentColor\" x=\"4340\">put</tspan>\n",
              "    <tspan class=\"displacy-tag\" dy=\"2em\" fill=\"currentColor\" x=\"4340\">VERB</tspan>\n",
              "</text>\n",
              "\n",
              "<text class=\"displacy-token\" fill=\"currentColor\" text-anchor=\"middle\" y=\"487.0\">\n",
              "    <tspan class=\"displacy-word\" fill=\"currentColor\" x=\"4450\">in</tspan>\n",
              "    <tspan class=\"displacy-tag\" dy=\"2em\" fill=\"currentColor\" x=\"4450\">ADP</tspan>\n",
              "</text>\n",
              "\n",
              "<text class=\"displacy-token\" fill=\"currentColor\" text-anchor=\"middle\" y=\"487.0\">\n",
              "    <tspan class=\"displacy-word\" fill=\"currentColor\" x=\"4560\">a</tspan>\n",
              "    <tspan class=\"displacy-tag\" dy=\"2em\" fill=\"currentColor\" x=\"4560\">DET</tspan>\n",
              "</text>\n",
              "\n",
              "<text class=\"displacy-token\" fill=\"currentColor\" text-anchor=\"middle\" y=\"487.0\">\n",
              "    <tspan class=\"displacy-word\" fill=\"currentColor\" x=\"4670\">pie</tspan>\n",
              "    <tspan class=\"displacy-tag\" dy=\"2em\" fill=\"currentColor\" x=\"4670\">NOUN</tspan>\n",
              "</text>\n",
              "\n",
              "<text class=\"displacy-token\" fill=\"currentColor\" text-anchor=\"middle\" y=\"487.0\">\n",
              "    <tspan class=\"displacy-word\" fill=\"currentColor\" x=\"4780\">by</tspan>\n",
              "    <tspan class=\"displacy-tag\" dy=\"2em\" fill=\"currentColor\" x=\"4780\">ADP</tspan>\n",
              "</text>\n",
              "\n",
              "<text class=\"displacy-token\" fill=\"currentColor\" text-anchor=\"middle\" y=\"487.0\">\n",
              "    <tspan class=\"displacy-word\" fill=\"currentColor\" x=\"4890\">Mrs.</tspan>\n",
              "    <tspan class=\"displacy-tag\" dy=\"2em\" fill=\"currentColor\" x=\"4890\">PROPN</tspan>\n",
              "</text>\n",
              "\n",
              "<text class=\"displacy-token\" fill=\"currentColor\" text-anchor=\"middle\" y=\"487.0\">\n",
              "    <tspan class=\"displacy-word\" fill=\"currentColor\" x=\"5000\">\n",
              "</tspan>\n",
              "    <tspan class=\"displacy-tag\" dy=\"2em\" fill=\"currentColor\" x=\"5000\">SPACE</tspan>\n",
              "</text>\n",
              "\n",
              "<text class=\"displacy-token\" fill=\"currentColor\" text-anchor=\"middle\" y=\"487.0\">\n",
              "    <tspan class=\"displacy-word\" fill=\"currentColor\" x=\"5110\">McGregor.'</tspan>\n",
              "    <tspan class=\"displacy-tag\" dy=\"2em\" fill=\"currentColor\" x=\"5110\">PUNCT</tspan>\n",
              "</text>\n",
              "\n",
              "<text class=\"displacy-token\" fill=\"currentColor\" text-anchor=\"middle\" y=\"487.0\">\n",
              "    <tspan class=\"displacy-word\" fill=\"currentColor\" x=\"5220\">\n",
              "\n",
              "'</tspan>\n",
              "    <tspan class=\"displacy-tag\" dy=\"2em\" fill=\"currentColor\" x=\"5220\">SPACE</tspan>\n",
              "</text>\n",
              "\n",
              "<text class=\"displacy-token\" fill=\"currentColor\" text-anchor=\"middle\" y=\"487.0\">\n",
              "    <tspan class=\"displacy-word\" fill=\"currentColor\" x=\"5330\">Now</tspan>\n",
              "    <tspan class=\"displacy-tag\" dy=\"2em\" fill=\"currentColor\" x=\"5330\">ADV</tspan>\n",
              "</text>\n",
              "\n",
              "<text class=\"displacy-token\" fill=\"currentColor\" text-anchor=\"middle\" y=\"487.0\">\n",
              "    <tspan class=\"displacy-word\" fill=\"currentColor\" x=\"5440\">run</tspan>\n",
              "    <tspan class=\"displacy-tag\" dy=\"2em\" fill=\"currentColor\" x=\"5440\">VERB</tspan>\n",
              "</text>\n",
              "\n",
              "<text class=\"displacy-token\" fill=\"currentColor\" text-anchor=\"middle\" y=\"487.0\">\n",
              "    <tspan class=\"displacy-word\" fill=\"currentColor\" x=\"5550\">along,</tspan>\n",
              "    <tspan class=\"displacy-tag\" dy=\"2em\" fill=\"currentColor\" x=\"5550\">ADV</tspan>\n",
              "</text>\n",
              "\n",
              "<text class=\"displacy-token\" fill=\"currentColor\" text-anchor=\"middle\" y=\"487.0\">\n",
              "    <tspan class=\"displacy-word\" fill=\"currentColor\" x=\"5660\">and</tspan>\n",
              "    <tspan class=\"displacy-tag\" dy=\"2em\" fill=\"currentColor\" x=\"5660\">CCONJ</tspan>\n",
              "</text>\n",
              "\n",
              "<text class=\"displacy-token\" fill=\"currentColor\" text-anchor=\"middle\" y=\"487.0\">\n",
              "    <tspan class=\"displacy-word\" fill=\"currentColor\" x=\"5770\">do</tspan>\n",
              "    <tspan class=\"displacy-tag\" dy=\"2em\" fill=\"currentColor\" x=\"5770\">AUX</tspan>\n",
              "</text>\n",
              "\n",
              "<text class=\"displacy-token\" fill=\"currentColor\" text-anchor=\"middle\" y=\"487.0\">\n",
              "    <tspan class=\"displacy-word\" fill=\"currentColor\" x=\"5880\">n't</tspan>\n",
              "    <tspan class=\"displacy-tag\" dy=\"2em\" fill=\"currentColor\" x=\"5880\">PART</tspan>\n",
              "</text>\n",
              "\n",
              "<text class=\"displacy-token\" fill=\"currentColor\" text-anchor=\"middle\" y=\"487.0\">\n",
              "    <tspan class=\"displacy-word\" fill=\"currentColor\" x=\"5990\">get</tspan>\n",
              "    <tspan class=\"displacy-tag\" dy=\"2em\" fill=\"currentColor\" x=\"5990\">VERB</tspan>\n",
              "</text>\n",
              "\n",
              "<text class=\"displacy-token\" fill=\"currentColor\" text-anchor=\"middle\" y=\"487.0\">\n",
              "    <tspan class=\"displacy-word\" fill=\"currentColor\" x=\"6100\">into</tspan>\n",
              "    <tspan class=\"displacy-tag\" dy=\"2em\" fill=\"currentColor\" x=\"6100\">ADP</tspan>\n",
              "</text>\n",
              "\n",
              "<text class=\"displacy-token\" fill=\"currentColor\" text-anchor=\"middle\" y=\"487.0\">\n",
              "    <tspan class=\"displacy-word\" fill=\"currentColor\" x=\"6210\">mischief.</tspan>\n",
              "    <tspan class=\"displacy-tag\" dy=\"2em\" fill=\"currentColor\" x=\"6210\">NOUN</tspan>\n",
              "</text>\n",
              "\n",
              "<g class=\"displacy-arrow\">\n",
              "    <path class=\"displacy-arc\" id=\"arrow-bc77b3de69834aa89de979f3cebcc961-0-0\" stroke-width=\"2px\" d=\"M70,442.0 C70,277.0 465.0,277.0 465.0,442.0\" fill=\"none\" stroke=\"currentColor\"/>\n",
              "    <text dy=\"1.25em\" style=\"font-size: 0.8em; letter-spacing: 1px\">\n",
              "        <textPath xlink:href=\"#arrow-bc77b3de69834aa89de979f3cebcc961-0-0\" class=\"displacy-label\" startOffset=\"50%\" side=\"left\" fill=\"currentColor\" text-anchor=\"middle\">punct</textPath>\n",
              "    </text>\n",
              "    <path class=\"displacy-arrowhead\" d=\"M70,444.0 L62,432.0 78,432.0\" fill=\"currentColor\"/>\n",
              "</g>\n",
              "\n",
              "<g class=\"displacy-arrow\">\n",
              "    <path class=\"displacy-arc\" id=\"arrow-bc77b3de69834aa89de979f3cebcc961-0-1\" stroke-width=\"2px\" d=\"M180,442.0 C180,332.0 350.0,332.0 350.0,442.0\" fill=\"none\" stroke=\"currentColor\"/>\n",
              "    <text dy=\"1.25em\" style=\"font-size: 0.8em; letter-spacing: 1px\">\n",
              "        <textPath xlink:href=\"#arrow-bc77b3de69834aa89de979f3cebcc961-0-1\" class=\"displacy-label\" startOffset=\"50%\" side=\"left\" fill=\"currentColor\" text-anchor=\"middle\">advmod</textPath>\n",
              "    </text>\n",
              "    <path class=\"displacy-arrowhead\" d=\"M180,444.0 L172,432.0 188,432.0\" fill=\"currentColor\"/>\n",
              "</g>\n",
              "\n",
              "<g class=\"displacy-arrow\">\n",
              "    <path class=\"displacy-arc\" id=\"arrow-bc77b3de69834aa89de979f3cebcc961-0-2\" stroke-width=\"2px\" d=\"M290,442.0 C290,387.0 345.0,387.0 345.0,442.0\" fill=\"none\" stroke=\"currentColor\"/>\n",
              "    <text dy=\"1.25em\" style=\"font-size: 0.8em; letter-spacing: 1px\">\n",
              "        <textPath xlink:href=\"#arrow-bc77b3de69834aa89de979f3cebcc961-0-2\" class=\"displacy-label\" startOffset=\"50%\" side=\"left\" fill=\"currentColor\" text-anchor=\"middle\">poss</textPath>\n",
              "    </text>\n",
              "    <path class=\"displacy-arrowhead\" d=\"M290,444.0 L282,432.0 298,432.0\" fill=\"currentColor\"/>\n",
              "</g>\n",
              "\n",
              "<g class=\"displacy-arrow\">\n",
              "    <path class=\"displacy-arc\" id=\"arrow-bc77b3de69834aa89de979f3cebcc961-0-3\" stroke-width=\"2px\" d=\"M400,442.0 C400,387.0 455.0,387.0 455.0,442.0\" fill=\"none\" stroke=\"currentColor\"/>\n",
              "    <text dy=\"1.25em\" style=\"font-size: 0.8em; letter-spacing: 1px\">\n",
              "        <textPath xlink:href=\"#arrow-bc77b3de69834aa89de979f3cebcc961-0-3\" class=\"displacy-label\" startOffset=\"50%\" side=\"left\" fill=\"currentColor\" text-anchor=\"middle\">nsubj</textPath>\n",
              "    </text>\n",
              "    <path class=\"displacy-arrowhead\" d=\"M400,444.0 L392,432.0 408,432.0\" fill=\"currentColor\"/>\n",
              "</g>\n",
              "\n",
              "<g class=\"displacy-arrow\">\n",
              "    <path class=\"displacy-arc\" id=\"arrow-bc77b3de69834aa89de979f3cebcc961-0-4\" stroke-width=\"2px\" d=\"M620,442.0 C620,332.0 790.0,332.0 790.0,442.0\" fill=\"none\" stroke=\"currentColor\"/>\n",
              "    <text dy=\"1.25em\" style=\"font-size: 0.8em; letter-spacing: 1px\">\n",
              "        <textPath xlink:href=\"#arrow-bc77b3de69834aa89de979f3cebcc961-0-4\" class=\"displacy-label\" startOffset=\"50%\" side=\"left\" fill=\"currentColor\" text-anchor=\"middle\">amod</textPath>\n",
              "    </text>\n",
              "    <path class=\"displacy-arrowhead\" d=\"M620,444.0 L612,432.0 628,432.0\" fill=\"currentColor\"/>\n",
              "</g>\n",
              "\n",
              "<g class=\"displacy-arrow\">\n",
              "    <path class=\"displacy-arc\" id=\"arrow-bc77b3de69834aa89de979f3cebcc961-0-5\" stroke-width=\"2px\" d=\"M730,442.0 C730,387.0 785.0,387.0 785.0,442.0\" fill=\"none\" stroke=\"currentColor\"/>\n",
              "    <text dy=\"1.25em\" style=\"font-size: 0.8em; letter-spacing: 1px\">\n",
              "        <textPath xlink:href=\"#arrow-bc77b3de69834aa89de979f3cebcc961-0-5\" class=\"displacy-label\" startOffset=\"50%\" side=\"left\" fill=\"currentColor\" text-anchor=\"middle\">compound</textPath>\n",
              "    </text>\n",
              "    <path class=\"displacy-arrowhead\" d=\"M730,444.0 L722,432.0 738,432.0\" fill=\"currentColor\"/>\n",
              "</g>\n",
              "\n",
              "<g class=\"displacy-arrow\">\n",
              "    <path class=\"displacy-arc\" id=\"arrow-bc77b3de69834aa89de979f3cebcc961-0-6\" stroke-width=\"2px\" d=\"M510,442.0 C510,277.0 795.0,277.0 795.0,442.0\" fill=\"none\" stroke=\"currentColor\"/>\n",
              "    <text dy=\"1.25em\" style=\"font-size: 0.8em; letter-spacing: 1px\">\n",
              "        <textPath xlink:href=\"#arrow-bc77b3de69834aa89de979f3cebcc961-0-6\" class=\"displacy-label\" startOffset=\"50%\" side=\"left\" fill=\"currentColor\" text-anchor=\"middle\">nsubj</textPath>\n",
              "    </text>\n",
              "    <path class=\"displacy-arrowhead\" d=\"M795.0,444.0 L803.0,432.0 787.0,432.0\" fill=\"currentColor\"/>\n",
              "</g>\n",
              "\n",
              "<g class=\"displacy-arrow\">\n",
              "    <path class=\"displacy-arc\" id=\"arrow-bc77b3de69834aa89de979f3cebcc961-0-7\" stroke-width=\"2px\" d=\"M950,442.0 C950,387.0 1005.0,387.0 1005.0,442.0\" fill=\"none\" stroke=\"currentColor\"/>\n",
              "    <text dy=\"1.25em\" style=\"font-size: 0.8em; letter-spacing: 1px\">\n",
              "        <textPath xlink:href=\"#arrow-bc77b3de69834aa89de979f3cebcc961-0-7\" class=\"displacy-label\" startOffset=\"50%\" side=\"left\" fill=\"currentColor\" text-anchor=\"middle\">nummod</textPath>\n",
              "    </text>\n",
              "    <path class=\"displacy-arrowhead\" d=\"M950,444.0 L942,432.0 958,432.0\" fill=\"currentColor\"/>\n",
              "</g>\n",
              "\n",
              "<g class=\"displacy-arrow\">\n",
              "    <path class=\"displacy-arc\" id=\"arrow-bc77b3de69834aa89de979f3cebcc961-0-8\" stroke-width=\"2px\" d=\"M1060,442.0 C1060,277.0 1345.0,277.0 1345.0,442.0\" fill=\"none\" stroke=\"currentColor\"/>\n",
              "    <text dy=\"1.25em\" style=\"font-size: 0.8em; letter-spacing: 1px\">\n",
              "        <textPath xlink:href=\"#arrow-bc77b3de69834aa89de979f3cebcc961-0-8\" class=\"displacy-label\" startOffset=\"50%\" side=\"left\" fill=\"currentColor\" text-anchor=\"middle\">npadvmod</textPath>\n",
              "    </text>\n",
              "    <path class=\"displacy-arrowhead\" d=\"M1060,444.0 L1052,432.0 1068,432.0\" fill=\"currentColor\"/>\n",
              "</g>\n",
              "\n",
              "<g class=\"displacy-arrow\">\n",
              "    <path class=\"displacy-arc\" id=\"arrow-bc77b3de69834aa89de979f3cebcc961-0-9\" stroke-width=\"2px\" d=\"M1170,442.0 C1170,332.0 1340.0,332.0 1340.0,442.0\" fill=\"none\" stroke=\"currentColor\"/>\n",
              "    <text dy=\"1.25em\" style=\"font-size: 0.8em; letter-spacing: 1px\">\n",
              "        <textPath xlink:href=\"#arrow-bc77b3de69834aa89de979f3cebcc961-0-9\" class=\"displacy-label\" startOffset=\"50%\" side=\"left\" fill=\"currentColor\" text-anchor=\"middle\">nsubj</textPath>\n",
              "    </text>\n",
              "    <path class=\"displacy-arrowhead\" d=\"M1170,444.0 L1162,432.0 1178,432.0\" fill=\"currentColor\"/>\n",
              "</g>\n",
              "\n",
              "<g class=\"displacy-arrow\">\n",
              "    <path class=\"displacy-arc\" id=\"arrow-bc77b3de69834aa89de979f3cebcc961-0-10\" stroke-width=\"2px\" d=\"M1280,442.0 C1280,387.0 1335.0,387.0 1335.0,442.0\" fill=\"none\" stroke=\"currentColor\"/>\n",
              "    <text dy=\"1.25em\" style=\"font-size: 0.8em; letter-spacing: 1px\">\n",
              "        <textPath xlink:href=\"#arrow-bc77b3de69834aa89de979f3cebcc961-0-10\" class=\"displacy-label\" startOffset=\"50%\" side=\"left\" fill=\"currentColor\" text-anchor=\"middle\">aux</textPath>\n",
              "    </text>\n",
              "    <path class=\"displacy-arrowhead\" d=\"M1280,444.0 L1272,432.0 1288,432.0\" fill=\"currentColor\"/>\n",
              "</g>\n",
              "\n",
              "<g class=\"displacy-arrow\">\n",
              "    <path class=\"displacy-arc\" id=\"arrow-bc77b3de69834aa89de979f3cebcc961-0-11\" stroke-width=\"2px\" d=\"M1390,442.0 C1390,57.0 3675.0,57.0 3675.0,442.0\" fill=\"none\" stroke=\"currentColor\"/>\n",
              "    <text dy=\"1.25em\" style=\"font-size: 0.8em; letter-spacing: 1px\">\n",
              "        <textPath xlink:href=\"#arrow-bc77b3de69834aa89de979f3cebcc961-0-11\" class=\"displacy-label\" startOffset=\"50%\" side=\"left\" fill=\"currentColor\" text-anchor=\"middle\">ccomp</textPath>\n",
              "    </text>\n",
              "    <path class=\"displacy-arrowhead\" d=\"M1390,444.0 L1382,432.0 1398,432.0\" fill=\"currentColor\"/>\n",
              "</g>\n",
              "\n",
              "<g class=\"displacy-arrow\">\n",
              "    <path class=\"displacy-arc\" id=\"arrow-bc77b3de69834aa89de979f3cebcc961-0-12\" stroke-width=\"2px\" d=\"M1390,442.0 C1390,387.0 1445.0,387.0 1445.0,442.0\" fill=\"none\" stroke=\"currentColor\"/>\n",
              "    <text dy=\"1.25em\" style=\"font-size: 0.8em; letter-spacing: 1px\">\n",
              "        <textPath xlink:href=\"#arrow-bc77b3de69834aa89de979f3cebcc961-0-12\" class=\"displacy-label\" startOffset=\"50%\" side=\"left\" fill=\"currentColor\" text-anchor=\"middle\">prep</textPath>\n",
              "    </text>\n",
              "    <path class=\"displacy-arrowhead\" d=\"M1445.0,444.0 L1453.0,432.0 1437.0,432.0\" fill=\"currentColor\"/>\n",
              "</g>\n",
              "\n",
              "<g class=\"displacy-arrow\">\n",
              "    <path class=\"displacy-arc\" id=\"arrow-bc77b3de69834aa89de979f3cebcc961-0-13\" stroke-width=\"2px\" d=\"M1500,442.0 C1500,387.0 1555.0,387.0 1555.0,442.0\" fill=\"none\" stroke=\"currentColor\"/>\n",
              "    <text dy=\"1.25em\" style=\"font-size: 0.8em; letter-spacing: 1px\">\n",
              "        <textPath xlink:href=\"#arrow-bc77b3de69834aa89de979f3cebcc961-0-13\" class=\"displacy-label\" startOffset=\"50%\" side=\"left\" fill=\"currentColor\" text-anchor=\"middle\">dep</textPath>\n",
              "    </text>\n",
              "    <path class=\"displacy-arrowhead\" d=\"M1555.0,444.0 L1563.0,432.0 1547.0,432.0\" fill=\"currentColor\"/>\n",
              "</g>\n",
              "\n",
              "<g class=\"displacy-arrow\">\n",
              "    <path class=\"displacy-arc\" id=\"arrow-bc77b3de69834aa89de979f3cebcc961-0-14\" stroke-width=\"2px\" d=\"M1720,442.0 C1720,387.0 1775.0,387.0 1775.0,442.0\" fill=\"none\" stroke=\"currentColor\"/>\n",
              "    <text dy=\"1.25em\" style=\"font-size: 0.8em; letter-spacing: 1px\">\n",
              "        <textPath xlink:href=\"#arrow-bc77b3de69834aa89de979f3cebcc961-0-14\" class=\"displacy-label\" startOffset=\"50%\" side=\"left\" fill=\"currentColor\" text-anchor=\"middle\">det</textPath>\n",
              "    </text>\n",
              "    <path class=\"displacy-arrowhead\" d=\"M1720,444.0 L1712,432.0 1728,432.0\" fill=\"currentColor\"/>\n",
              "</g>\n",
              "\n",
              "<g class=\"displacy-arrow\">\n",
              "    <path class=\"displacy-arc\" id=\"arrow-bc77b3de69834aa89de979f3cebcc961-0-15\" stroke-width=\"2px\" d=\"M1500,442.0 C1500,332.0 1780.0,332.0 1780.0,442.0\" fill=\"none\" stroke=\"currentColor\"/>\n",
              "    <text dy=\"1.25em\" style=\"font-size: 0.8em; letter-spacing: 1px\">\n",
              "        <textPath xlink:href=\"#arrow-bc77b3de69834aa89de979f3cebcc961-0-15\" class=\"displacy-label\" startOffset=\"50%\" side=\"left\" fill=\"currentColor\" text-anchor=\"middle\">pobj</textPath>\n",
              "    </text>\n",
              "    <path class=\"displacy-arrowhead\" d=\"M1780.0,444.0 L1788.0,432.0 1772.0,432.0\" fill=\"currentColor\"/>\n",
              "</g>\n",
              "\n",
              "<g class=\"displacy-arrow\">\n",
              "    <path class=\"displacy-arc\" id=\"arrow-bc77b3de69834aa89de979f3cebcc961-0-16\" stroke-width=\"2px\" d=\"M1500,442.0 C1500,277.0 1895.0,277.0 1895.0,442.0\" fill=\"none\" stroke=\"currentColor\"/>\n",
              "    <text dy=\"1.25em\" style=\"font-size: 0.8em; letter-spacing: 1px\">\n",
              "        <textPath xlink:href=\"#arrow-bc77b3de69834aa89de979f3cebcc961-0-16\" class=\"displacy-label\" startOffset=\"50%\" side=\"left\" fill=\"currentColor\" text-anchor=\"middle\">cc</textPath>\n",
              "    </text>\n",
              "    <path class=\"displacy-arrowhead\" d=\"M1895.0,444.0 L1903.0,432.0 1887.0,432.0\" fill=\"currentColor\"/>\n",
              "</g>\n",
              "\n",
              "<g class=\"displacy-arrow\">\n",
              "    <path class=\"displacy-arc\" id=\"arrow-bc77b3de69834aa89de979f3cebcc961-0-17\" stroke-width=\"2px\" d=\"M1500,442.0 C1500,222.0 2010.0,222.0 2010.0,442.0\" fill=\"none\" stroke=\"currentColor\"/>\n",
              "    <text dy=\"1.25em\" style=\"font-size: 0.8em; letter-spacing: 1px\">\n",
              "        <textPath xlink:href=\"#arrow-bc77b3de69834aa89de979f3cebcc961-0-17\" class=\"displacy-label\" startOffset=\"50%\" side=\"left\" fill=\"currentColor\" text-anchor=\"middle\">conj</textPath>\n",
              "    </text>\n",
              "    <path class=\"displacy-arrowhead\" d=\"M2010.0,444.0 L2018.0,432.0 2002.0,432.0\" fill=\"currentColor\"/>\n",
              "</g>\n",
              "\n",
              "<g class=\"displacy-arrow\">\n",
              "    <path class=\"displacy-arc\" id=\"arrow-bc77b3de69834aa89de979f3cebcc961-0-18\" stroke-width=\"2px\" d=\"M2160,442.0 C2160,387.0 2215.0,387.0 2215.0,442.0\" fill=\"none\" stroke=\"currentColor\"/>\n",
              "    <text dy=\"1.25em\" style=\"font-size: 0.8em; letter-spacing: 1px\">\n",
              "        <textPath xlink:href=\"#arrow-bc77b3de69834aa89de979f3cebcc961-0-18\" class=\"displacy-label\" startOffset=\"50%\" side=\"left\" fill=\"currentColor\" text-anchor=\"middle\">det</textPath>\n",
              "    </text>\n",
              "    <path class=\"displacy-arrowhead\" d=\"M2160,444.0 L2152,432.0 2168,432.0\" fill=\"currentColor\"/>\n",
              "</g>\n",
              "\n",
              "<g class=\"displacy-arrow\">\n",
              "    <path class=\"displacy-arc\" id=\"arrow-bc77b3de69834aa89de979f3cebcc961-0-19\" stroke-width=\"2px\" d=\"M2050,442.0 C2050,332.0 2220.0,332.0 2220.0,442.0\" fill=\"none\" stroke=\"currentColor\"/>\n",
              "    <text dy=\"1.25em\" style=\"font-size: 0.8em; letter-spacing: 1px\">\n",
              "        <textPath xlink:href=\"#arrow-bc77b3de69834aa89de979f3cebcc961-0-19\" class=\"displacy-label\" startOffset=\"50%\" side=\"left\" fill=\"currentColor\" text-anchor=\"middle\">pobj</textPath>\n",
              "    </text>\n",
              "    <path class=\"displacy-arrowhead\" d=\"M2220.0,444.0 L2228.0,432.0 2212.0,432.0\" fill=\"currentColor\"/>\n",
              "</g>\n",
              "\n",
              "<g class=\"displacy-arrow\">\n",
              "    <path class=\"displacy-arc\" id=\"arrow-bc77b3de69834aa89de979f3cebcc961-0-20\" stroke-width=\"2px\" d=\"M1390,442.0 C1390,167.0 2345.0,167.0 2345.0,442.0\" fill=\"none\" stroke=\"currentColor\"/>\n",
              "    <text dy=\"1.25em\" style=\"font-size: 0.8em; letter-spacing: 1px\">\n",
              "        <textPath xlink:href=\"#arrow-bc77b3de69834aa89de979f3cebcc961-0-20\" class=\"displacy-label\" startOffset=\"50%\" side=\"left\" fill=\"currentColor\" text-anchor=\"middle\">cc</textPath>\n",
              "    </text>\n",
              "    <path class=\"displacy-arrowhead\" d=\"M2345.0,444.0 L2353.0,432.0 2337.0,432.0\" fill=\"currentColor\"/>\n",
              "</g>\n",
              "\n",
              "<g class=\"displacy-arrow\">\n",
              "    <path class=\"displacy-arc\" id=\"arrow-bc77b3de69834aa89de979f3cebcc961-0-21\" stroke-width=\"2px\" d=\"M2490,442.0 C2490,332.0 2660.0,332.0 2660.0,442.0\" fill=\"none\" stroke=\"currentColor\"/>\n",
              "    <text dy=\"1.25em\" style=\"font-size: 0.8em; letter-spacing: 1px\">\n",
              "        <textPath xlink:href=\"#arrow-bc77b3de69834aa89de979f3cebcc961-0-21\" class=\"displacy-label\" startOffset=\"50%\" side=\"left\" fill=\"currentColor\" text-anchor=\"middle\">aux</textPath>\n",
              "    </text>\n",
              "    <path class=\"displacy-arrowhead\" d=\"M2490,444.0 L2482,432.0 2498,432.0\" fill=\"currentColor\"/>\n",
              "</g>\n",
              "\n",
              "<g class=\"displacy-arrow\">\n",
              "    <path class=\"displacy-arc\" id=\"arrow-bc77b3de69834aa89de979f3cebcc961-0-22\" stroke-width=\"2px\" d=\"M2600,442.0 C2600,387.0 2655.0,387.0 2655.0,442.0\" fill=\"none\" stroke=\"currentColor\"/>\n",
              "    <text dy=\"1.25em\" style=\"font-size: 0.8em; letter-spacing: 1px\">\n",
              "        <textPath xlink:href=\"#arrow-bc77b3de69834aa89de979f3cebcc961-0-22\" class=\"displacy-label\" startOffset=\"50%\" side=\"left\" fill=\"currentColor\" text-anchor=\"middle\">neg</textPath>\n",
              "    </text>\n",
              "    <path class=\"displacy-arrowhead\" d=\"M2600,444.0 L2592,432.0 2608,432.0\" fill=\"currentColor\"/>\n",
              "</g>\n",
              "\n",
              "<g class=\"displacy-arrow\">\n",
              "    <path class=\"displacy-arc\" id=\"arrow-bc77b3de69834aa89de979f3cebcc961-0-23\" stroke-width=\"2px\" d=\"M1390,442.0 C1390,112.0 2680.0,112.0 2680.0,442.0\" fill=\"none\" stroke=\"currentColor\"/>\n",
              "    <text dy=\"1.25em\" style=\"font-size: 0.8em; letter-spacing: 1px\">\n",
              "        <textPath xlink:href=\"#arrow-bc77b3de69834aa89de979f3cebcc961-0-23\" class=\"displacy-label\" startOffset=\"50%\" side=\"left\" fill=\"currentColor\" text-anchor=\"middle\">conj</textPath>\n",
              "    </text>\n",
              "    <path class=\"displacy-arrowhead\" d=\"M2680.0,444.0 L2688.0,432.0 2672.0,432.0\" fill=\"currentColor\"/>\n",
              "</g>\n",
              "\n",
              "<g class=\"displacy-arrow\">\n",
              "    <path class=\"displacy-arc\" id=\"arrow-bc77b3de69834aa89de979f3cebcc961-0-24\" stroke-width=\"2px\" d=\"M2710,442.0 C2710,387.0 2765.0,387.0 2765.0,442.0\" fill=\"none\" stroke=\"currentColor\"/>\n",
              "    <text dy=\"1.25em\" style=\"font-size: 0.8em; letter-spacing: 1px\">\n",
              "        <textPath xlink:href=\"#arrow-bc77b3de69834aa89de979f3cebcc961-0-24\" class=\"displacy-label\" startOffset=\"50%\" side=\"left\" fill=\"currentColor\" text-anchor=\"middle\">prep</textPath>\n",
              "    </text>\n",
              "    <path class=\"displacy-arrowhead\" d=\"M2765.0,444.0 L2773.0,432.0 2757.0,432.0\" fill=\"currentColor\"/>\n",
              "</g>\n",
              "\n",
              "<g class=\"displacy-arrow\">\n",
              "    <path class=\"displacy-arc\" id=\"arrow-bc77b3de69834aa89de979f3cebcc961-0-25\" stroke-width=\"2px\" d=\"M2930,442.0 C2930,387.0 2985.0,387.0 2985.0,442.0\" fill=\"none\" stroke=\"currentColor\"/>\n",
              "    <text dy=\"1.25em\" style=\"font-size: 0.8em; letter-spacing: 1px\">\n",
              "        <textPath xlink:href=\"#arrow-bc77b3de69834aa89de979f3cebcc961-0-25\" class=\"displacy-label\" startOffset=\"50%\" side=\"left\" fill=\"currentColor\" text-anchor=\"middle\">compound</textPath>\n",
              "    </text>\n",
              "    <path class=\"displacy-arrowhead\" d=\"M2930,444.0 L2922,432.0 2938,432.0\" fill=\"currentColor\"/>\n",
              "</g>\n",
              "\n",
              "<g class=\"displacy-arrow\">\n",
              "    <path class=\"displacy-arc\" id=\"arrow-bc77b3de69834aa89de979f3cebcc961-0-26\" stroke-width=\"2px\" d=\"M3040,442.0 C3040,332.0 3210.0,332.0 3210.0,442.0\" fill=\"none\" stroke=\"currentColor\"/>\n",
              "    <text dy=\"1.25em\" style=\"font-size: 0.8em; letter-spacing: 1px\">\n",
              "        <textPath xlink:href=\"#arrow-bc77b3de69834aa89de979f3cebcc961-0-26\" class=\"displacy-label\" startOffset=\"50%\" side=\"left\" fill=\"currentColor\" text-anchor=\"middle\">poss</textPath>\n",
              "    </text>\n",
              "    <path class=\"displacy-arrowhead\" d=\"M3040,444.0 L3032,432.0 3048,432.0\" fill=\"currentColor\"/>\n",
              "</g>\n",
              "\n",
              "<g class=\"displacy-arrow\">\n",
              "    <path class=\"displacy-arc\" id=\"arrow-bc77b3de69834aa89de979f3cebcc961-0-27\" stroke-width=\"2px\" d=\"M3040,442.0 C3040,387.0 3095.0,387.0 3095.0,442.0\" fill=\"none\" stroke=\"currentColor\"/>\n",
              "    <text dy=\"1.25em\" style=\"font-size: 0.8em; letter-spacing: 1px\">\n",
              "        <textPath xlink:href=\"#arrow-bc77b3de69834aa89de979f3cebcc961-0-27\" class=\"displacy-label\" startOffset=\"50%\" side=\"left\" fill=\"currentColor\" text-anchor=\"middle\">case</textPath>\n",
              "    </text>\n",
              "    <path class=\"displacy-arrowhead\" d=\"M3095.0,444.0 L3103.0,432.0 3087.0,432.0\" fill=\"currentColor\"/>\n",
              "</g>\n",
              "\n",
              "<g class=\"displacy-arrow\">\n",
              "    <path class=\"displacy-arc\" id=\"arrow-bc77b3de69834aa89de979f3cebcc961-0-28\" stroke-width=\"2px\" d=\"M3260,442.0 C3260,332.0 3650.0,332.0 3650.0,442.0\" fill=\"none\" stroke=\"currentColor\"/>\n",
              "    <text dy=\"1.25em\" style=\"font-size: 0.8em; letter-spacing: 1px\">\n",
              "        <textPath xlink:href=\"#arrow-bc77b3de69834aa89de979f3cebcc961-0-28\" class=\"displacy-label\" startOffset=\"50%\" side=\"left\" fill=\"currentColor\" text-anchor=\"middle\">punct</textPath>\n",
              "    </text>\n",
              "    <path class=\"displacy-arrowhead\" d=\"M3260,444.0 L3252,432.0 3268,432.0\" fill=\"currentColor\"/>\n",
              "</g>\n",
              "\n",
              "<g class=\"displacy-arrow\">\n",
              "    <path class=\"displacy-arc\" id=\"arrow-bc77b3de69834aa89de979f3cebcc961-0-29\" stroke-width=\"2px\" d=\"M3260,442.0 C3260,387.0 3315.0,387.0 3315.0,442.0\" fill=\"none\" stroke=\"currentColor\"/>\n",
              "    <text dy=\"1.25em\" style=\"font-size: 0.8em; letter-spacing: 1px\">\n",
              "        <textPath xlink:href=\"#arrow-bc77b3de69834aa89de979f3cebcc961-0-29\" class=\"displacy-label\" startOffset=\"50%\" side=\"left\" fill=\"currentColor\" text-anchor=\"middle\">dep</textPath>\n",
              "    </text>\n",
              "    <path class=\"displacy-arrowhead\" d=\"M3315.0,444.0 L3323.0,432.0 3307.0,432.0\" fill=\"currentColor\"/>\n",
              "</g>\n",
              "\n",
              "<g class=\"displacy-arrow\">\n",
              "    <path class=\"displacy-arc\" id=\"arrow-bc77b3de69834aa89de979f3cebcc961-0-30\" stroke-width=\"2px\" d=\"M3480,442.0 C3480,387.0 3535.0,387.0 3535.0,442.0\" fill=\"none\" stroke=\"currentColor\"/>\n",
              "    <text dy=\"1.25em\" style=\"font-size: 0.8em; letter-spacing: 1px\">\n",
              "        <textPath xlink:href=\"#arrow-bc77b3de69834aa89de979f3cebcc961-0-30\" class=\"displacy-label\" startOffset=\"50%\" side=\"left\" fill=\"currentColor\" text-anchor=\"middle\">poss</textPath>\n",
              "    </text>\n",
              "    <path class=\"displacy-arrowhead\" d=\"M3480,444.0 L3472,432.0 3488,432.0\" fill=\"currentColor\"/>\n",
              "</g>\n",
              "\n",
              "<g class=\"displacy-arrow\">\n",
              "    <path class=\"displacy-arc\" id=\"arrow-bc77b3de69834aa89de979f3cebcc961-0-31\" stroke-width=\"2px\" d=\"M3590,442.0 C3590,387.0 3645.0,387.0 3645.0,442.0\" fill=\"none\" stroke=\"currentColor\"/>\n",
              "    <text dy=\"1.25em\" style=\"font-size: 0.8em; letter-spacing: 1px\">\n",
              "        <textPath xlink:href=\"#arrow-bc77b3de69834aa89de979f3cebcc961-0-31\" class=\"displacy-label\" startOffset=\"50%\" side=\"left\" fill=\"currentColor\" text-anchor=\"middle\">nsubj</textPath>\n",
              "    </text>\n",
              "    <path class=\"displacy-arrowhead\" d=\"M3590,444.0 L3582,432.0 3598,432.0\" fill=\"currentColor\"/>\n",
              "</g>\n",
              "\n",
              "<g class=\"displacy-arrow\">\n",
              "    <path class=\"displacy-arc\" id=\"arrow-bc77b3de69834aa89de979f3cebcc961-0-32\" stroke-width=\"2px\" d=\"M3700,442.0 C3700,222.0 4320.0,222.0 4320.0,442.0\" fill=\"none\" stroke=\"currentColor\"/>\n",
              "    <text dy=\"1.25em\" style=\"font-size: 0.8em; letter-spacing: 1px\">\n",
              "        <textPath xlink:href=\"#arrow-bc77b3de69834aa89de979f3cebcc961-0-32\" class=\"displacy-label\" startOffset=\"50%\" side=\"left\" fill=\"currentColor\" text-anchor=\"middle\">ccomp</textPath>\n",
              "    </text>\n",
              "    <path class=\"displacy-arrowhead\" d=\"M3700,444.0 L3692,432.0 3708,432.0\" fill=\"currentColor\"/>\n",
              "</g>\n",
              "\n",
              "<g class=\"displacy-arrow\">\n",
              "    <path class=\"displacy-arc\" id=\"arrow-bc77b3de69834aa89de979f3cebcc961-0-33\" stroke-width=\"2px\" d=\"M3810,442.0 C3810,387.0 3865.0,387.0 3865.0,442.0\" fill=\"none\" stroke=\"currentColor\"/>\n",
              "    <text dy=\"1.25em\" style=\"font-size: 0.8em; letter-spacing: 1px\">\n",
              "        <textPath xlink:href=\"#arrow-bc77b3de69834aa89de979f3cebcc961-0-33\" class=\"displacy-label\" startOffset=\"50%\" side=\"left\" fill=\"currentColor\" text-anchor=\"middle\">det</textPath>\n",
              "    </text>\n",
              "    <path class=\"displacy-arrowhead\" d=\"M3810,444.0 L3802,432.0 3818,432.0\" fill=\"currentColor\"/>\n",
              "</g>\n",
              "\n",
              "<g class=\"displacy-arrow\">\n",
              "    <path class=\"displacy-arc\" id=\"arrow-bc77b3de69834aa89de979f3cebcc961-0-34\" stroke-width=\"2px\" d=\"M3700,442.0 C3700,332.0 3870.0,332.0 3870.0,442.0\" fill=\"none\" stroke=\"currentColor\"/>\n",
              "    <text dy=\"1.25em\" style=\"font-size: 0.8em; letter-spacing: 1px\">\n",
              "        <textPath xlink:href=\"#arrow-bc77b3de69834aa89de979f3cebcc961-0-34\" class=\"displacy-label\" startOffset=\"50%\" side=\"left\" fill=\"currentColor\" text-anchor=\"middle\">dobj</textPath>\n",
              "    </text>\n",
              "    <path class=\"displacy-arrowhead\" d=\"M3870.0,444.0 L3878.0,432.0 3862.0,432.0\" fill=\"currentColor\"/>\n",
              "</g>\n",
              "\n",
              "<g class=\"displacy-arrow\">\n",
              "    <path class=\"displacy-arc\" id=\"arrow-bc77b3de69834aa89de979f3cebcc961-0-35\" stroke-width=\"2px\" d=\"M3700,442.0 C3700,277.0 3985.0,277.0 3985.0,442.0\" fill=\"none\" stroke=\"currentColor\"/>\n",
              "    <text dy=\"1.25em\" style=\"font-size: 0.8em; letter-spacing: 1px\">\n",
              "        <textPath xlink:href=\"#arrow-bc77b3de69834aa89de979f3cebcc961-0-35\" class=\"displacy-label\" startOffset=\"50%\" side=\"left\" fill=\"currentColor\" text-anchor=\"middle\">advmod</textPath>\n",
              "    </text>\n",
              "    <path class=\"displacy-arrowhead\" d=\"M3985.0,444.0 L3993.0,432.0 3977.0,432.0\" fill=\"currentColor\"/>\n",
              "</g>\n",
              "\n",
              "<g class=\"displacy-arrow\">\n",
              "    <path class=\"displacy-arc\" id=\"arrow-bc77b3de69834aa89de979f3cebcc961-0-36\" stroke-width=\"2px\" d=\"M4140,442.0 C4140,332.0 4310.0,332.0 4310.0,442.0\" fill=\"none\" stroke=\"currentColor\"/>\n",
              "    <text dy=\"1.25em\" style=\"font-size: 0.8em; letter-spacing: 1px\">\n",
              "        <textPath xlink:href=\"#arrow-bc77b3de69834aa89de979f3cebcc961-0-36\" class=\"displacy-label\" startOffset=\"50%\" side=\"left\" fill=\"currentColor\" text-anchor=\"middle\">nsubjpass</textPath>\n",
              "    </text>\n",
              "    <path class=\"displacy-arrowhead\" d=\"M4140,444.0 L4132,432.0 4148,432.0\" fill=\"currentColor\"/>\n",
              "</g>\n",
              "\n",
              "<g class=\"displacy-arrow\">\n",
              "    <path class=\"displacy-arc\" id=\"arrow-bc77b3de69834aa89de979f3cebcc961-0-37\" stroke-width=\"2px\" d=\"M4250,442.0 C4250,387.0 4305.0,387.0 4305.0,442.0\" fill=\"none\" stroke=\"currentColor\"/>\n",
              "    <text dy=\"1.25em\" style=\"font-size: 0.8em; letter-spacing: 1px\">\n",
              "        <textPath xlink:href=\"#arrow-bc77b3de69834aa89de979f3cebcc961-0-37\" class=\"displacy-label\" startOffset=\"50%\" side=\"left\" fill=\"currentColor\" text-anchor=\"middle\">auxpass</textPath>\n",
              "    </text>\n",
              "    <path class=\"displacy-arrowhead\" d=\"M4250,444.0 L4242,432.0 4258,432.0\" fill=\"currentColor\"/>\n",
              "</g>\n",
              "\n",
              "<g class=\"displacy-arrow\">\n",
              "    <path class=\"displacy-arc\" id=\"arrow-bc77b3de69834aa89de979f3cebcc961-0-38\" stroke-width=\"2px\" d=\"M510,442.0 C510,2.0 4340.0,2.0 4340.0,442.0\" fill=\"none\" stroke=\"currentColor\"/>\n",
              "    <text dy=\"1.25em\" style=\"font-size: 0.8em; letter-spacing: 1px\">\n",
              "        <textPath xlink:href=\"#arrow-bc77b3de69834aa89de979f3cebcc961-0-38\" class=\"displacy-label\" startOffset=\"50%\" side=\"left\" fill=\"currentColor\" text-anchor=\"middle\">ccomp</textPath>\n",
              "    </text>\n",
              "    <path class=\"displacy-arrowhead\" d=\"M4340.0,444.0 L4348.0,432.0 4332.0,432.0\" fill=\"currentColor\"/>\n",
              "</g>\n",
              "\n",
              "<g class=\"displacy-arrow\">\n",
              "    <path class=\"displacy-arc\" id=\"arrow-bc77b3de69834aa89de979f3cebcc961-0-39\" stroke-width=\"2px\" d=\"M4360,442.0 C4360,387.0 4415.0,387.0 4415.0,442.0\" fill=\"none\" stroke=\"currentColor\"/>\n",
              "    <text dy=\"1.25em\" style=\"font-size: 0.8em; letter-spacing: 1px\">\n",
              "        <textPath xlink:href=\"#arrow-bc77b3de69834aa89de979f3cebcc961-0-39\" class=\"displacy-label\" startOffset=\"50%\" side=\"left\" fill=\"currentColor\" text-anchor=\"middle\">prep</textPath>\n",
              "    </text>\n",
              "    <path class=\"displacy-arrowhead\" d=\"M4415.0,444.0 L4423.0,432.0 4407.0,432.0\" fill=\"currentColor\"/>\n",
              "</g>\n",
              "\n",
              "<g class=\"displacy-arrow\">\n",
              "    <path class=\"displacy-arc\" id=\"arrow-bc77b3de69834aa89de979f3cebcc961-0-40\" stroke-width=\"2px\" d=\"M4580,442.0 C4580,387.0 4635.0,387.0 4635.0,442.0\" fill=\"none\" stroke=\"currentColor\"/>\n",
              "    <text dy=\"1.25em\" style=\"font-size: 0.8em; letter-spacing: 1px\">\n",
              "        <textPath xlink:href=\"#arrow-bc77b3de69834aa89de979f3cebcc961-0-40\" class=\"displacy-label\" startOffset=\"50%\" side=\"left\" fill=\"currentColor\" text-anchor=\"middle\">det</textPath>\n",
              "    </text>\n",
              "    <path class=\"displacy-arrowhead\" d=\"M4580,444.0 L4572,432.0 4588,432.0\" fill=\"currentColor\"/>\n",
              "</g>\n",
              "\n",
              "<g class=\"displacy-arrow\">\n",
              "    <path class=\"displacy-arc\" id=\"arrow-bc77b3de69834aa89de979f3cebcc961-0-41\" stroke-width=\"2px\" d=\"M4470,442.0 C4470,332.0 4640.0,332.0 4640.0,442.0\" fill=\"none\" stroke=\"currentColor\"/>\n",
              "    <text dy=\"1.25em\" style=\"font-size: 0.8em; letter-spacing: 1px\">\n",
              "        <textPath xlink:href=\"#arrow-bc77b3de69834aa89de979f3cebcc961-0-41\" class=\"displacy-label\" startOffset=\"50%\" side=\"left\" fill=\"currentColor\" text-anchor=\"middle\">pobj</textPath>\n",
              "    </text>\n",
              "    <path class=\"displacy-arrowhead\" d=\"M4640.0,444.0 L4648.0,432.0 4632.0,432.0\" fill=\"currentColor\"/>\n",
              "</g>\n",
              "\n",
              "<g class=\"displacy-arrow\">\n",
              "    <path class=\"displacy-arc\" id=\"arrow-bc77b3de69834aa89de979f3cebcc961-0-42\" stroke-width=\"2px\" d=\"M4360,442.0 C4360,277.0 4755.0,277.0 4755.0,442.0\" fill=\"none\" stroke=\"currentColor\"/>\n",
              "    <text dy=\"1.25em\" style=\"font-size: 0.8em; letter-spacing: 1px\">\n",
              "        <textPath xlink:href=\"#arrow-bc77b3de69834aa89de979f3cebcc961-0-42\" class=\"displacy-label\" startOffset=\"50%\" side=\"left\" fill=\"currentColor\" text-anchor=\"middle\">agent</textPath>\n",
              "    </text>\n",
              "    <path class=\"displacy-arrowhead\" d=\"M4755.0,444.0 L4763.0,432.0 4747.0,432.0\" fill=\"currentColor\"/>\n",
              "</g>\n",
              "\n",
              "<g class=\"displacy-arrow\">\n",
              "    <path class=\"displacy-arc\" id=\"arrow-bc77b3de69834aa89de979f3cebcc961-0-43\" stroke-width=\"2px\" d=\"M4910,442.0 C4910,332.0 5080.0,332.0 5080.0,442.0\" fill=\"none\" stroke=\"currentColor\"/>\n",
              "    <text dy=\"1.25em\" style=\"font-size: 0.8em; letter-spacing: 1px\">\n",
              "        <textPath xlink:href=\"#arrow-bc77b3de69834aa89de979f3cebcc961-0-43\" class=\"displacy-label\" startOffset=\"50%\" side=\"left\" fill=\"currentColor\" text-anchor=\"middle\">compound</textPath>\n",
              "    </text>\n",
              "    <path class=\"displacy-arrowhead\" d=\"M4910,444.0 L4902,432.0 4918,432.0\" fill=\"currentColor\"/>\n",
              "</g>\n",
              "\n",
              "<g class=\"displacy-arrow\">\n",
              "    <path class=\"displacy-arc\" id=\"arrow-bc77b3de69834aa89de979f3cebcc961-0-44\" stroke-width=\"2px\" d=\"M4910,442.0 C4910,387.0 4965.0,387.0 4965.0,442.0\" fill=\"none\" stroke=\"currentColor\"/>\n",
              "    <text dy=\"1.25em\" style=\"font-size: 0.8em; letter-spacing: 1px\">\n",
              "        <textPath xlink:href=\"#arrow-bc77b3de69834aa89de979f3cebcc961-0-44\" class=\"displacy-label\" startOffset=\"50%\" side=\"left\" fill=\"currentColor\" text-anchor=\"middle\">dep</textPath>\n",
              "    </text>\n",
              "    <path class=\"displacy-arrowhead\" d=\"M4965.0,444.0 L4973.0,432.0 4957.0,432.0\" fill=\"currentColor\"/>\n",
              "</g>\n",
              "\n",
              "<g class=\"displacy-arrow\">\n",
              "    <path class=\"displacy-arc\" id=\"arrow-bc77b3de69834aa89de979f3cebcc961-0-45\" stroke-width=\"2px\" d=\"M4360,442.0 C4360,222.0 5090.0,222.0 5090.0,442.0\" fill=\"none\" stroke=\"currentColor\"/>\n",
              "    <text dy=\"1.25em\" style=\"font-size: 0.8em; letter-spacing: 1px\">\n",
              "        <textPath xlink:href=\"#arrow-bc77b3de69834aa89de979f3cebcc961-0-45\" class=\"displacy-label\" startOffset=\"50%\" side=\"left\" fill=\"currentColor\" text-anchor=\"middle\">punct</textPath>\n",
              "    </text>\n",
              "    <path class=\"displacy-arrowhead\" d=\"M5090.0,444.0 L5098.0,432.0 5082.0,432.0\" fill=\"currentColor\"/>\n",
              "</g>\n",
              "\n",
              "<g class=\"displacy-arrow\">\n",
              "    <path class=\"displacy-arc\" id=\"arrow-bc77b3de69834aa89de979f3cebcc961-0-46\" stroke-width=\"2px\" d=\"M5130,442.0 C5130,387.0 5185.0,387.0 5185.0,442.0\" fill=\"none\" stroke=\"currentColor\"/>\n",
              "    <text dy=\"1.25em\" style=\"font-size: 0.8em; letter-spacing: 1px\">\n",
              "        <textPath xlink:href=\"#arrow-bc77b3de69834aa89de979f3cebcc961-0-46\" class=\"displacy-label\" startOffset=\"50%\" side=\"left\" fill=\"currentColor\" text-anchor=\"middle\">dep</textPath>\n",
              "    </text>\n",
              "    <path class=\"displacy-arrowhead\" d=\"M5185.0,444.0 L5193.0,432.0 5177.0,432.0\" fill=\"currentColor\"/>\n",
              "</g>\n",
              "\n",
              "<g class=\"displacy-arrow\">\n",
              "    <path class=\"displacy-arc\" id=\"arrow-bc77b3de69834aa89de979f3cebcc961-0-47\" stroke-width=\"2px\" d=\"M5350,442.0 C5350,387.0 5405.0,387.0 5405.0,442.0\" fill=\"none\" stroke=\"currentColor\"/>\n",
              "    <text dy=\"1.25em\" style=\"font-size: 0.8em; letter-spacing: 1px\">\n",
              "        <textPath xlink:href=\"#arrow-bc77b3de69834aa89de979f3cebcc961-0-47\" class=\"displacy-label\" startOffset=\"50%\" side=\"left\" fill=\"currentColor\" text-anchor=\"middle\">advmod</textPath>\n",
              "    </text>\n",
              "    <path class=\"displacy-arrowhead\" d=\"M5350,444.0 L5342,432.0 5358,432.0\" fill=\"currentColor\"/>\n",
              "</g>\n",
              "\n",
              "<g class=\"displacy-arrow\">\n",
              "    <path class=\"displacy-arc\" id=\"arrow-bc77b3de69834aa89de979f3cebcc961-0-48\" stroke-width=\"2px\" d=\"M4360,442.0 C4360,167.0 5425.0,167.0 5425.0,442.0\" fill=\"none\" stroke=\"currentColor\"/>\n",
              "    <text dy=\"1.25em\" style=\"font-size: 0.8em; letter-spacing: 1px\">\n",
              "        <textPath xlink:href=\"#arrow-bc77b3de69834aa89de979f3cebcc961-0-48\" class=\"displacy-label\" startOffset=\"50%\" side=\"left\" fill=\"currentColor\" text-anchor=\"middle\">dobj</textPath>\n",
              "    </text>\n",
              "    <path class=\"displacy-arrowhead\" d=\"M5425.0,444.0 L5433.0,432.0 5417.0,432.0\" fill=\"currentColor\"/>\n",
              "</g>\n",
              "\n",
              "<g class=\"displacy-arrow\">\n",
              "    <path class=\"displacy-arc\" id=\"arrow-bc77b3de69834aa89de979f3cebcc961-0-49\" stroke-width=\"2px\" d=\"M5460,442.0 C5460,387.0 5515.0,387.0 5515.0,442.0\" fill=\"none\" stroke=\"currentColor\"/>\n",
              "    <text dy=\"1.25em\" style=\"font-size: 0.8em; letter-spacing: 1px\">\n",
              "        <textPath xlink:href=\"#arrow-bc77b3de69834aa89de979f3cebcc961-0-49\" class=\"displacy-label\" startOffset=\"50%\" side=\"left\" fill=\"currentColor\" text-anchor=\"middle\">advmod</textPath>\n",
              "    </text>\n",
              "    <path class=\"displacy-arrowhead\" d=\"M5515.0,444.0 L5523.0,432.0 5507.0,432.0\" fill=\"currentColor\"/>\n",
              "</g>\n",
              "\n",
              "<g class=\"displacy-arrow\">\n",
              "    <path class=\"displacy-arc\" id=\"arrow-bc77b3de69834aa89de979f3cebcc961-0-50\" stroke-width=\"2px\" d=\"M5460,442.0 C5460,332.0 5630.0,332.0 5630.0,442.0\" fill=\"none\" stroke=\"currentColor\"/>\n",
              "    <text dy=\"1.25em\" style=\"font-size: 0.8em; letter-spacing: 1px\">\n",
              "        <textPath xlink:href=\"#arrow-bc77b3de69834aa89de979f3cebcc961-0-50\" class=\"displacy-label\" startOffset=\"50%\" side=\"left\" fill=\"currentColor\" text-anchor=\"middle\">cc</textPath>\n",
              "    </text>\n",
              "    <path class=\"displacy-arrowhead\" d=\"M5630.0,444.0 L5638.0,432.0 5622.0,432.0\" fill=\"currentColor\"/>\n",
              "</g>\n",
              "\n",
              "<g class=\"displacy-arrow\">\n",
              "    <path class=\"displacy-arc\" id=\"arrow-bc77b3de69834aa89de979f3cebcc961-0-51\" stroke-width=\"2px\" d=\"M5790,442.0 C5790,332.0 5960.0,332.0 5960.0,442.0\" fill=\"none\" stroke=\"currentColor\"/>\n",
              "    <text dy=\"1.25em\" style=\"font-size: 0.8em; letter-spacing: 1px\">\n",
              "        <textPath xlink:href=\"#arrow-bc77b3de69834aa89de979f3cebcc961-0-51\" class=\"displacy-label\" startOffset=\"50%\" side=\"left\" fill=\"currentColor\" text-anchor=\"middle\">aux</textPath>\n",
              "    </text>\n",
              "    <path class=\"displacy-arrowhead\" d=\"M5790,444.0 L5782,432.0 5798,432.0\" fill=\"currentColor\"/>\n",
              "</g>\n",
              "\n",
              "<g class=\"displacy-arrow\">\n",
              "    <path class=\"displacy-arc\" id=\"arrow-bc77b3de69834aa89de979f3cebcc961-0-52\" stroke-width=\"2px\" d=\"M5900,442.0 C5900,387.0 5955.0,387.0 5955.0,442.0\" fill=\"none\" stroke=\"currentColor\"/>\n",
              "    <text dy=\"1.25em\" style=\"font-size: 0.8em; letter-spacing: 1px\">\n",
              "        <textPath xlink:href=\"#arrow-bc77b3de69834aa89de979f3cebcc961-0-52\" class=\"displacy-label\" startOffset=\"50%\" side=\"left\" fill=\"currentColor\" text-anchor=\"middle\">neg</textPath>\n",
              "    </text>\n",
              "    <path class=\"displacy-arrowhead\" d=\"M5900,444.0 L5892,432.0 5908,432.0\" fill=\"currentColor\"/>\n",
              "</g>\n",
              "\n",
              "<g class=\"displacy-arrow\">\n",
              "    <path class=\"displacy-arc\" id=\"arrow-bc77b3de69834aa89de979f3cebcc961-0-53\" stroke-width=\"2px\" d=\"M5460,442.0 C5460,277.0 5965.0,277.0 5965.0,442.0\" fill=\"none\" stroke=\"currentColor\"/>\n",
              "    <text dy=\"1.25em\" style=\"font-size: 0.8em; letter-spacing: 1px\">\n",
              "        <textPath xlink:href=\"#arrow-bc77b3de69834aa89de979f3cebcc961-0-53\" class=\"displacy-label\" startOffset=\"50%\" side=\"left\" fill=\"currentColor\" text-anchor=\"middle\">conj</textPath>\n",
              "    </text>\n",
              "    <path class=\"displacy-arrowhead\" d=\"M5965.0,444.0 L5973.0,432.0 5957.0,432.0\" fill=\"currentColor\"/>\n",
              "</g>\n",
              "\n",
              "<g class=\"displacy-arrow\">\n",
              "    <path class=\"displacy-arc\" id=\"arrow-bc77b3de69834aa89de979f3cebcc961-0-54\" stroke-width=\"2px\" d=\"M6010,442.0 C6010,387.0 6065.0,387.0 6065.0,442.0\" fill=\"none\" stroke=\"currentColor\"/>\n",
              "    <text dy=\"1.25em\" style=\"font-size: 0.8em; letter-spacing: 1px\">\n",
              "        <textPath xlink:href=\"#arrow-bc77b3de69834aa89de979f3cebcc961-0-54\" class=\"displacy-label\" startOffset=\"50%\" side=\"left\" fill=\"currentColor\" text-anchor=\"middle\">prep</textPath>\n",
              "    </text>\n",
              "    <path class=\"displacy-arrowhead\" d=\"M6065.0,444.0 L6073.0,432.0 6057.0,432.0\" fill=\"currentColor\"/>\n",
              "</g>\n",
              "\n",
              "<g class=\"displacy-arrow\">\n",
              "    <path class=\"displacy-arc\" id=\"arrow-bc77b3de69834aa89de979f3cebcc961-0-55\" stroke-width=\"2px\" d=\"M6120,442.0 C6120,387.0 6175.0,387.0 6175.0,442.0\" fill=\"none\" stroke=\"currentColor\"/>\n",
              "    <text dy=\"1.25em\" style=\"font-size: 0.8em; letter-spacing: 1px\">\n",
              "        <textPath xlink:href=\"#arrow-bc77b3de69834aa89de979f3cebcc961-0-55\" class=\"displacy-label\" startOffset=\"50%\" side=\"left\" fill=\"currentColor\" text-anchor=\"middle\">pobj</textPath>\n",
              "    </text>\n",
              "    <path class=\"displacy-arrowhead\" d=\"M6175.0,444.0 L6183.0,432.0 6167.0,432.0\" fill=\"currentColor\"/>\n",
              "</g>\n",
              "</svg></span>"
            ]
          },
          "metadata": {}
        }
      ],
      "source": [
        "for num,sent in enumerate(doc.sents, start = 1):\n",
        "    if (num == 3):\n",
        "        for token in sent:\n",
        "            print(f'{token.text:{10}} {token.pos_:{8}}  {token.dep_:{6}} {spacy.explain(token.dep_)}')\n",
        "        displacy.render(sent, style='dep', jupyter=True, options={'distance': 110})\n",
        "        break"
      ]
    },
    {
      "cell_type": "markdown",
      "metadata": {
        "id": "j3omr3Eos0h6"
      },
      "source": [
        "**Task 6. Show the first two named entities from Beatrix Potter's *The Tale of Peter Rabbit***"
      ]
    },
    {
      "cell_type": "code",
      "execution_count": null,
      "metadata": {
        "id": "yLbKhXjBs0h7",
        "colab": {
          "base_uri": "https://localhost:8080/"
        },
        "outputId": "04f99649-130c-4456-ab86-b522a0f1201a"
      },
      "outputs": [
        {
          "output_type": "stream",
          "name": "stdout",
          "text": [
            "The first two named entities are: \n",
            "four\n",
            "were--\n",
            "\n",
            "          Flopsy\n"
          ]
        }
      ],
      "source": [
        "named_entity = list(doc.ents)[0:2]\n",
        "print(\"The first two named entities are: \")\n",
        "for i in named_entity:\n",
        "    print(i)\n",
        "\n"
      ]
    },
    {
      "cell_type": "markdown",
      "metadata": {
        "id": "DrOnMNr0s0h8"
      },
      "source": [
        "**Task 7. How many sentences are contained in *The Tale of Peter Rabbit*?**"
      ]
    },
    {
      "cell_type": "code",
      "execution_count": null,
      "metadata": {
        "id": "8oKvj9yVs0h8",
        "colab": {
          "base_uri": "https://localhost:8080/"
        },
        "outputId": "79eb6b41-500b-4dd2-e74d-aa9dfd0f5643"
      },
      "outputs": [
        {
          "output_type": "stream",
          "name": "stdout",
          "text": [
            "The total sentencesa are: 54\n"
          ]
        }
      ],
      "source": [
        "sent_num = list(doc.sents)\n",
        "print(\"The total sentencesa are:\",len(sent_num))"
      ]
    },
    {
      "cell_type": "markdown",
      "metadata": {
        "id": "LIm_GldCs0h9"
      },
      "source": [
        "**Task 8. CHALLENGE: How many sentences contain named entities?**"
      ]
    },
    {
      "cell_type": "code",
      "execution_count": null,
      "metadata": {
        "id": "LJsfhRS9s0h9",
        "colab": {
          "base_uri": "https://localhost:8080/"
        },
        "outputId": "03bd6f84-50ba-4a73-eede-9f4aac58b2ef"
      },
      "outputs": [
        {
          "output_type": "stream",
          "name": "stdout",
          "text": [
            "The number of sentences containing named entities are:  34\n"
          ]
        }
      ],
      "source": [
        "ner_sentences = 0\n",
        "for sent in doc.sents:\n",
        "    if sent.ents:\n",
        "        ner_sentences += 1\n",
        "print(\"The number of sentences containing named entities are: \", ner_sentences)"
      ]
    },
    {
      "cell_type": "markdown",
      "metadata": {
        "id": "nz51AqVos0h-"
      },
      "source": [
        "**Task 9. CHALLENGE: Display the named entity visualization for `list_of_sents[0]` from the previous problem**"
      ]
    },
    {
      "cell_type": "code",
      "execution_count": null,
      "metadata": {
        "id": "Vhz-6Csqs0h_",
        "colab": {
          "base_uri": "https://localhost:8080/",
          "height": 227
        },
        "outputId": "4710e041-0c41-4ae2-f833-88883446e1a4"
      },
      "outputs": [
        {
          "output_type": "display_data",
          "data": {
            "text/plain": [
              "<IPython.core.display.HTML object>"
            ],
            "text/html": [
              "<span class=\"tex2jax_ignore\"><div class=\"entities\" style=\"line-height: 2.5; direction: ltr\">Once upon a time there were \n",
              "<mark class=\"entity\" style=\"background: #e4e7d2; padding: 0.45em 0.6em; margin: 0 0.25em; line-height: 1; border-radius: 0.35em;\">\n",
              "    four\n",
              "    <span style=\"font-size: 0.8em; font-weight: bold; line-height: 1; border-radius: 0.35em; vertical-align: middle; margin-left: 0.5rem\">CARDINAL</span>\n",
              "</mark>\n",
              " little Rabbits, and their names<br>\n",
              "<mark class=\"entity\" style=\"background: #7aecec; padding: 0.45em 0.6em; margin: 0 0.25em; line-height: 1; border-radius: 0.35em;\">\n",
              "    were--\n",
              "\n",
              "          Flopsy\n",
              "    <span style=\"font-size: 0.8em; font-weight: bold; line-height: 1; border-radius: 0.35em; vertical-align: middle; margin-left: 0.5rem\">ORG</span>\n",
              "</mark>\n",
              ",<br>       \n",
              "<mark class=\"entity\" style=\"background: #feca74; padding: 0.45em 0.6em; margin: 0 0.25em; line-height: 1; border-radius: 0.35em;\">\n",
              "    Mopsy\n",
              "    <span style=\"font-size: 0.8em; font-weight: bold; line-height: 1; border-radius: 0.35em; vertical-align: middle; margin-left: 0.5rem\">GPE</span>\n",
              "</mark>\n",
              ",<br>   \n",
              "<mark class=\"entity\" style=\"background: #aa9cfc; padding: 0.45em 0.6em; margin: 0 0.25em; line-height: 1; border-radius: 0.35em;\">\n",
              "    Cotton\n",
              "    <span style=\"font-size: 0.8em; font-weight: bold; line-height: 1; border-radius: 0.35em; vertical-align: middle; margin-left: 0.5rem\">PERSON</span>\n",
              "</mark>\n",
              "-tail,<br>and \n",
              "<mark class=\"entity\" style=\"background: #aa9cfc; padding: 0.45em 0.6em; margin: 0 0.25em; line-height: 1; border-radius: 0.35em;\">\n",
              "    Peter\n",
              "    <span style=\"font-size: 0.8em; font-weight: bold; line-height: 1; border-radius: 0.35em; vertical-align: middle; margin-left: 0.5rem\">PERSON</span>\n",
              "</mark>\n",
              ".<br><br></div></span>"
            ]
          },
          "metadata": {}
        }
      ],
      "source": [
        "for num,sent in enumerate(doc.sents, start = 1):\n",
        "    if (num == 1):\n",
        "        displacy.render(sent, style='ent', jupyter=True, options={'distance': 110})\n",
        "        break"
      ]
    },
    {
      "cell_type": "code",
      "source": [],
      "metadata": {
        "id": "7DhCDQ_Y75uM"
      },
      "execution_count": null,
      "outputs": []
    },
    {
      "cell_type": "markdown",
      "metadata": {
        "id": "nFl2ZAHCxYFG"
      },
      "source": [
        "# Section 3 - Text Classification"
      ]
    },
    {
      "cell_type": "markdown",
      "metadata": {
        "id": "pEw1mmQjtyFu"
      },
      "source": [
        "# Text Classification Assessment\n",
        "The **moviereviews2.tsv** dataset contains the text of 6000 movie reviews. 3000 are positive, 3000 are negative, and the text has been preprocessed as a tab-delimited file. As before, labels are given as `pos` and `neg`.\n",
        "\n",
        "We've included 20 reviews that contain either `NaN` data, or have strings made up of whitespace.\n",
        "\n",
        "For more information on this dataset visit http://ai.stanford.edu/~amaas/data/sentiment/"
      ]
    },
    {
      "cell_type": "markdown",
      "metadata": {
        "id": "MHUI7qZftyFv"
      },
      "source": [
        "### Task #1: Perform imports and load the dataset into a pandas DataFrame\n",
        "For this exercise you can load the dataset from `'../TextFiles/moviereviews2.tsv'`."
      ]
    },
    {
      "cell_type": "code",
      "execution_count": null,
      "metadata": {
        "id": "pU6O5m0UtyFw",
        "colab": {
          "base_uri": "https://localhost:8080/",
          "height": 206
        },
        "outputId": "3cbe4938-aa1f-496f-b801-5b75a7de061d"
      },
      "outputs": [
        {
          "output_type": "execute_result",
          "data": {
            "text/plain": [
              "  label                                             review\n",
              "0   pos  I loved this movie and will watch it again. Or...\n",
              "1   pos  A warm, touching movie that has a fantasy-like...\n",
              "2   pos  I was not expecting the powerful filmmaking ex...\n",
              "3   neg  This so-called \"documentary\" tries to tell tha...\n",
              "4   pos  This show has been my escape from reality for ..."
            ],
            "text/html": [
              "\n",
              "  <div id=\"df-bfad5d29-2c34-44f1-a883-d6cc68483c80\" class=\"colab-df-container\">\n",
              "    <div>\n",
              "<style scoped>\n",
              "    .dataframe tbody tr th:only-of-type {\n",
              "        vertical-align: middle;\n",
              "    }\n",
              "\n",
              "    .dataframe tbody tr th {\n",
              "        vertical-align: top;\n",
              "    }\n",
              "\n",
              "    .dataframe thead th {\n",
              "        text-align: right;\n",
              "    }\n",
              "</style>\n",
              "<table border=\"1\" class=\"dataframe\">\n",
              "  <thead>\n",
              "    <tr style=\"text-align: right;\">\n",
              "      <th></th>\n",
              "      <th>label</th>\n",
              "      <th>review</th>\n",
              "    </tr>\n",
              "  </thead>\n",
              "  <tbody>\n",
              "    <tr>\n",
              "      <th>0</th>\n",
              "      <td>pos</td>\n",
              "      <td>I loved this movie and will watch it again. Or...</td>\n",
              "    </tr>\n",
              "    <tr>\n",
              "      <th>1</th>\n",
              "      <td>pos</td>\n",
              "      <td>A warm, touching movie that has a fantasy-like...</td>\n",
              "    </tr>\n",
              "    <tr>\n",
              "      <th>2</th>\n",
              "      <td>pos</td>\n",
              "      <td>I was not expecting the powerful filmmaking ex...</td>\n",
              "    </tr>\n",
              "    <tr>\n",
              "      <th>3</th>\n",
              "      <td>neg</td>\n",
              "      <td>This so-called \"documentary\" tries to tell tha...</td>\n",
              "    </tr>\n",
              "    <tr>\n",
              "      <th>4</th>\n",
              "      <td>pos</td>\n",
              "      <td>This show has been my escape from reality for ...</td>\n",
              "    </tr>\n",
              "  </tbody>\n",
              "</table>\n",
              "</div>\n",
              "    <div class=\"colab-df-buttons\">\n",
              "\n",
              "  <div class=\"colab-df-container\">\n",
              "    <button class=\"colab-df-convert\" onclick=\"convertToInteractive('df-bfad5d29-2c34-44f1-a883-d6cc68483c80')\"\n",
              "            title=\"Convert this dataframe to an interactive table.\"\n",
              "            style=\"display:none;\">\n",
              "\n",
              "  <svg xmlns=\"http://www.w3.org/2000/svg\" height=\"24px\" viewBox=\"0 -960 960 960\">\n",
              "    <path d=\"M120-120v-720h720v720H120Zm60-500h600v-160H180v160Zm220 220h160v-160H400v160Zm0 220h160v-160H400v160ZM180-400h160v-160H180v160Zm440 0h160v-160H620v160ZM180-180h160v-160H180v160Zm440 0h160v-160H620v160Z\"/>\n",
              "  </svg>\n",
              "    </button>\n",
              "\n",
              "  <style>\n",
              "    .colab-df-container {\n",
              "      display:flex;\n",
              "      gap: 12px;\n",
              "    }\n",
              "\n",
              "    .colab-df-convert {\n",
              "      background-color: #E8F0FE;\n",
              "      border: none;\n",
              "      border-radius: 50%;\n",
              "      cursor: pointer;\n",
              "      display: none;\n",
              "      fill: #1967D2;\n",
              "      height: 32px;\n",
              "      padding: 0 0 0 0;\n",
              "      width: 32px;\n",
              "    }\n",
              "\n",
              "    .colab-df-convert:hover {\n",
              "      background-color: #E2EBFA;\n",
              "      box-shadow: 0px 1px 2px rgba(60, 64, 67, 0.3), 0px 1px 3px 1px rgba(60, 64, 67, 0.15);\n",
              "      fill: #174EA6;\n",
              "    }\n",
              "\n",
              "    .colab-df-buttons div {\n",
              "      margin-bottom: 4px;\n",
              "    }\n",
              "\n",
              "    [theme=dark] .colab-df-convert {\n",
              "      background-color: #3B4455;\n",
              "      fill: #D2E3FC;\n",
              "    }\n",
              "\n",
              "    [theme=dark] .colab-df-convert:hover {\n",
              "      background-color: #434B5C;\n",
              "      box-shadow: 0px 1px 3px 1px rgba(0, 0, 0, 0.15);\n",
              "      filter: drop-shadow(0px 1px 2px rgba(0, 0, 0, 0.3));\n",
              "      fill: #FFFFFF;\n",
              "    }\n",
              "  </style>\n",
              "\n",
              "    <script>\n",
              "      const buttonEl =\n",
              "        document.querySelector('#df-bfad5d29-2c34-44f1-a883-d6cc68483c80 button.colab-df-convert');\n",
              "      buttonEl.style.display =\n",
              "        google.colab.kernel.accessAllowed ? 'block' : 'none';\n",
              "\n",
              "      async function convertToInteractive(key) {\n",
              "        const element = document.querySelector('#df-bfad5d29-2c34-44f1-a883-d6cc68483c80');\n",
              "        const dataTable =\n",
              "          await google.colab.kernel.invokeFunction('convertToInteractive',\n",
              "                                                    [key], {});\n",
              "        if (!dataTable) return;\n",
              "\n",
              "        const docLinkHtml = 'Like what you see? Visit the ' +\n",
              "          '<a target=\"_blank\" href=https://colab.research.google.com/notebooks/data_table.ipynb>data table notebook</a>'\n",
              "          + ' to learn more about interactive tables.';\n",
              "        element.innerHTML = '';\n",
              "        dataTable['output_type'] = 'display_data';\n",
              "        await google.colab.output.renderOutput(dataTable, element);\n",
              "        const docLink = document.createElement('div');\n",
              "        docLink.innerHTML = docLinkHtml;\n",
              "        element.appendChild(docLink);\n",
              "      }\n",
              "    </script>\n",
              "  </div>\n",
              "\n",
              "\n",
              "<div id=\"df-52cd40d5-a3dd-4e08-a316-3db90c1026cb\">\n",
              "  <button class=\"colab-df-quickchart\" onclick=\"quickchart('df-52cd40d5-a3dd-4e08-a316-3db90c1026cb')\"\n",
              "            title=\"Suggest charts\"\n",
              "            style=\"display:none;\">\n",
              "\n",
              "<svg xmlns=\"http://www.w3.org/2000/svg\" height=\"24px\"viewBox=\"0 0 24 24\"\n",
              "     width=\"24px\">\n",
              "    <g>\n",
              "        <path d=\"M19 3H5c-1.1 0-2 .9-2 2v14c0 1.1.9 2 2 2h14c1.1 0 2-.9 2-2V5c0-1.1-.9-2-2-2zM9 17H7v-7h2v7zm4 0h-2V7h2v10zm4 0h-2v-4h2v4z\"/>\n",
              "    </g>\n",
              "</svg>\n",
              "  </button>\n",
              "\n",
              "<style>\n",
              "  .colab-df-quickchart {\n",
              "      --bg-color: #E8F0FE;\n",
              "      --fill-color: #1967D2;\n",
              "      --hover-bg-color: #E2EBFA;\n",
              "      --hover-fill-color: #174EA6;\n",
              "      --disabled-fill-color: #AAA;\n",
              "      --disabled-bg-color: #DDD;\n",
              "  }\n",
              "\n",
              "  [theme=dark] .colab-df-quickchart {\n",
              "      --bg-color: #3B4455;\n",
              "      --fill-color: #D2E3FC;\n",
              "      --hover-bg-color: #434B5C;\n",
              "      --hover-fill-color: #FFFFFF;\n",
              "      --disabled-bg-color: #3B4455;\n",
              "      --disabled-fill-color: #666;\n",
              "  }\n",
              "\n",
              "  .colab-df-quickchart {\n",
              "    background-color: var(--bg-color);\n",
              "    border: none;\n",
              "    border-radius: 50%;\n",
              "    cursor: pointer;\n",
              "    display: none;\n",
              "    fill: var(--fill-color);\n",
              "    height: 32px;\n",
              "    padding: 0;\n",
              "    width: 32px;\n",
              "  }\n",
              "\n",
              "  .colab-df-quickchart:hover {\n",
              "    background-color: var(--hover-bg-color);\n",
              "    box-shadow: 0 1px 2px rgba(60, 64, 67, 0.3), 0 1px 3px 1px rgba(60, 64, 67, 0.15);\n",
              "    fill: var(--button-hover-fill-color);\n",
              "  }\n",
              "\n",
              "  .colab-df-quickchart-complete:disabled,\n",
              "  .colab-df-quickchart-complete:disabled:hover {\n",
              "    background-color: var(--disabled-bg-color);\n",
              "    fill: var(--disabled-fill-color);\n",
              "    box-shadow: none;\n",
              "  }\n",
              "\n",
              "  .colab-df-spinner {\n",
              "    border: 2px solid var(--fill-color);\n",
              "    border-color: transparent;\n",
              "    border-bottom-color: var(--fill-color);\n",
              "    animation:\n",
              "      spin 1s steps(1) infinite;\n",
              "  }\n",
              "\n",
              "  @keyframes spin {\n",
              "    0% {\n",
              "      border-color: transparent;\n",
              "      border-bottom-color: var(--fill-color);\n",
              "      border-left-color: var(--fill-color);\n",
              "    }\n",
              "    20% {\n",
              "      border-color: transparent;\n",
              "      border-left-color: var(--fill-color);\n",
              "      border-top-color: var(--fill-color);\n",
              "    }\n",
              "    30% {\n",
              "      border-color: transparent;\n",
              "      border-left-color: var(--fill-color);\n",
              "      border-top-color: var(--fill-color);\n",
              "      border-right-color: var(--fill-color);\n",
              "    }\n",
              "    40% {\n",
              "      border-color: transparent;\n",
              "      border-right-color: var(--fill-color);\n",
              "      border-top-color: var(--fill-color);\n",
              "    }\n",
              "    60% {\n",
              "      border-color: transparent;\n",
              "      border-right-color: var(--fill-color);\n",
              "    }\n",
              "    80% {\n",
              "      border-color: transparent;\n",
              "      border-right-color: var(--fill-color);\n",
              "      border-bottom-color: var(--fill-color);\n",
              "    }\n",
              "    90% {\n",
              "      border-color: transparent;\n",
              "      border-bottom-color: var(--fill-color);\n",
              "    }\n",
              "  }\n",
              "</style>\n",
              "\n",
              "  <script>\n",
              "    async function quickchart(key) {\n",
              "      const quickchartButtonEl =\n",
              "        document.querySelector('#' + key + ' button');\n",
              "      quickchartButtonEl.disabled = true;  // To prevent multiple clicks.\n",
              "      quickchartButtonEl.classList.add('colab-df-spinner');\n",
              "      try {\n",
              "        const charts = await google.colab.kernel.invokeFunction(\n",
              "            'suggestCharts', [key], {});\n",
              "      } catch (error) {\n",
              "        console.error('Error during call to suggestCharts:', error);\n",
              "      }\n",
              "      quickchartButtonEl.classList.remove('colab-df-spinner');\n",
              "      quickchartButtonEl.classList.add('colab-df-quickchart-complete');\n",
              "    }\n",
              "    (() => {\n",
              "      let quickchartButtonEl =\n",
              "        document.querySelector('#df-52cd40d5-a3dd-4e08-a316-3db90c1026cb button');\n",
              "      quickchartButtonEl.style.display =\n",
              "        google.colab.kernel.accessAllowed ? 'block' : 'none';\n",
              "    })();\n",
              "  </script>\n",
              "</div>\n",
              "    </div>\n",
              "  </div>\n"
            ]
          },
          "metadata": {},
          "execution_count": 95
        }
      ],
      "source": [
        "import pandas as pd\n",
        "df = pd.read_csv('/content/moviereviews2.tsv', sep = '\\t')\n",
        "df.head()"
      ]
    },
    {
      "cell_type": "markdown",
      "metadata": {
        "id": "vJ_6VkGxtyFx"
      },
      "source": [
        "### Task #2: Check for missing values:"
      ]
    },
    {
      "cell_type": "code",
      "execution_count": null,
      "metadata": {
        "id": "oOch0v-DtyFy",
        "colab": {
          "base_uri": "https://localhost:8080/"
        },
        "outputId": "feb87af1-3728-48c7-cf9e-d602c1765690"
      },
      "outputs": [
        {
          "output_type": "execute_result",
          "data": {
            "text/plain": [
              "label      0\n",
              "review    20\n",
              "dtype: int64"
            ]
          },
          "metadata": {},
          "execution_count": 96
        }
      ],
      "source": [
        "# Check for NaN values:\n",
        "df.isnull().sum()"
      ]
    },
    {
      "cell_type": "code",
      "execution_count": null,
      "metadata": {
        "id": "Fi8kWvUWtyFy",
        "colab": {
          "base_uri": "https://localhost:8080/"
        },
        "outputId": "179bf0bf-e161-4465-efce-e29d306330a0"
      },
      "outputs": [
        {
          "output_type": "execute_result",
          "data": {
            "text/plain": [
              "0       False\n",
              "1       False\n",
              "2       False\n",
              "3       False\n",
              "4       False\n",
              "        ...  \n",
              "5995    False\n",
              "5996    False\n",
              "5997    False\n",
              "5998    False\n",
              "5999    False\n",
              "Name: review, Length: 6000, dtype: object"
            ]
          },
          "metadata": {},
          "execution_count": 97
        }
      ],
      "source": [
        "# Check for whitespace strings (it's OK if there aren't any!):\n",
        "data=pd.Series(df.review)\n",
        "data.str.isspace()\n"
      ]
    },
    {
      "cell_type": "markdown",
      "metadata": {
        "id": "EpQCMhDCtyFz"
      },
      "source": [
        "### Task #3: Remove NaN values:"
      ]
    },
    {
      "cell_type": "code",
      "execution_count": null,
      "metadata": {
        "id": "6HwqjRVUtyFz",
        "colab": {
          "base_uri": "https://localhost:8080/"
        },
        "outputId": "6cd31b16-0a8e-4b2d-aa78-a061d83ff4d0"
      },
      "outputs": [
        {
          "output_type": "execute_result",
          "data": {
            "text/plain": [
              "label     0\n",
              "review    0\n",
              "dtype: int64"
            ]
          },
          "metadata": {},
          "execution_count": 101
        }
      ],
      "source": [
        "df.dropna(inplace=True)\n",
        "df.isnull().sum()"
      ]
    },
    {
      "cell_type": "markdown",
      "metadata": {
        "id": "zooMyli6tyF0"
      },
      "source": [
        "### Task #4: Take a quick look at the `label` column:"
      ]
    },
    {
      "cell_type": "code",
      "execution_count": null,
      "metadata": {
        "id": "YiRDq-BMtyF0",
        "colab": {
          "base_uri": "https://localhost:8080/"
        },
        "outputId": "3e6aa0e2-04f0-492f-fc52-c24a99aafd80"
      },
      "outputs": [
        {
          "output_type": "execute_result",
          "data": {
            "text/plain": [
              "(array(['pos', 'neg'], dtype=object),\n",
              " pos    2990\n",
              " neg    2990\n",
              " Name: label, dtype: int64)"
            ]
          },
          "metadata": {},
          "execution_count": 104
        }
      ],
      "source": [
        "df['label'].unique(), df['label'].value_counts()\n"
      ]
    },
    {
      "cell_type": "markdown",
      "metadata": {
        "id": "lwTADxxjtyF0"
      },
      "source": [
        "### Task #5: Split the data into train & test sets:\n",
        "You may use whatever settings you like. To compare your results to another solutions, use `test_size=0.33, random_state=42`"
      ]
    },
    {
      "cell_type": "code",
      "execution_count": null,
      "metadata": {
        "id": "fJsVmK-ytyF1"
      },
      "outputs": [],
      "source": [
        "\n",
        "X = df['review']\n",
        "y = df['label']\n",
        "from sklearn.model_selection import train_test_split\n",
        "X_train, X_test, y_train, y_test = train_test_split(X,y, test_size = 0.3, random_state=42)\n"
      ]
    },
    {
      "cell_type": "markdown",
      "source": [
        "# Section 4: NLP Pipeline - addition of custom component to customize any tasks like tokenization, stemming, lematizing, POS tagging, NER etc"
      ],
      "metadata": {
        "id": "sGULA0fRGJIB"
      }
    }
  ],
  "metadata": {
    "kernelspec": {
      "display_name": "Python 3",
      "language": "python",
      "name": "python3"
    },
    "language_info": {
      "codemirror_mode": {
        "name": "ipython",
        "version": 3
      },
      "file_extension": ".py",
      "mimetype": "text/x-python",
      "name": "python",
      "nbconvert_exporter": "python",
      "pygments_lexer": "ipython3",
      "version": "3.6.2"
    },
    "colab": {
      "provenance": []
    }
  },
  "nbformat": 4,
  "nbformat_minor": 0
}