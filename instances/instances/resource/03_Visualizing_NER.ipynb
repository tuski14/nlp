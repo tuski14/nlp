{
  "cells": [
    {
      "cell_type": "markdown",
      "metadata": {
        "id": "YHpZ2NXIa0hJ"
      },
      "source": [
        "___\n",
        "\n",
        "<a href='http://www.pieriandata.com'> <img src='../Pierian_Data_Logo.png' /></a>\n",
        "___"
      ]
    },
    {
      "cell_type": "markdown",
      "metadata": {
        "id": "nuYmZvOPa0hW"
      },
      "source": [
        "# Visualizing Named Entities\n",
        "Besides viewing Part of Speech dependencies with `style='dep'`, **displaCy** offers a `style='ent'` visualizer:"
      ]
    },
    {
      "cell_type": "code",
      "execution_count": null,
      "metadata": {
        "id": "2aA_K-OLa0hZ"
      },
      "outputs": [],
      "source": [
        "# Perform standard imports\n",
        "import spacy\n",
        "nlp = spacy.load('en_core_web_sm')\n",
        "\n",
        "# Import the displaCy library\n",
        "from spacy import displacy"
      ]
    },
    {
      "cell_type": "code",
      "execution_count": null,
      "metadata": {
        "id": "BCnTfEcFa0he"
      },
      "outputs": [],
      "source": [
        "doc = nlp(u'Over the last quarter Apple sold nearly 20 thousand iPods for a profit of $6 million. '\n",
        "         u'By contrast, Sony sold only 7 thousand Walkman music players.')\n",
        "\n",
        "displacy.render(doc, style='ent', jupyter=True)"
      ]
    },
    {
      "cell_type": "markdown",
      "metadata": {
        "id": "7oDxlTzta0hi"
      },
      "source": [
        "___\n",
        "## Viewing Sentences Line by Line\n",
        "Unlike the **displaCy** dependency parse, the NER viewer has to take in a Doc object with an `ents` attribute. For this reason, we can't just pass a list of spans to `.render()`, we have to create a new Doc from each `span.text`:"
      ]
    },
    {
      "cell_type": "code",
      "execution_count": null,
      "metadata": {
        "id": "XkHewPZBa0hj"
      },
      "outputs": [],
      "source": [
        "for sent in doc.sents:\n",
        "    displacy.render(nlp(sent.text), style='ent', jupyter=True)"
      ]
    },
    {
      "cell_type": "markdown",
      "metadata": {
        "id": "ANbr8VC0a0hl"
      },
      "source": [
        "<div class=\"alert alert-info\"><font color=black>**NOTE**: If a span does not contain any entities, displaCy will issue a harmless warning:</font></div>"
      ]
    },
    {
      "cell_type": "code",
      "execution_count": null,
      "metadata": {
        "id": "qEKdOI8Wa0hn"
      },
      "outputs": [],
      "source": [
        "doc2 = nlp(u'Over the last quarter Apple sold nearly 20 thousand iPods for a profit of $6 million. '\n",
        "         u'By contrast, my kids sold a lot of lemonade.')"
      ]
    },
    {
      "cell_type": "code",
      "execution_count": null,
      "metadata": {
        "id": "18RhuIs6a0ho"
      },
      "outputs": [],
      "source": [
        "for sent in doc2.sents:\n",
        "    displacy.render(nlp(sent.text), style='ent', jupyter=True)"
      ]
    },
    {
      "cell_type": "markdown",
      "metadata": {
        "id": "SdZuDuWXa0hp"
      },
      "source": [
        "<div class=\"alert alert-info\"><font color=black>**WORKAROUND:** We can avert this with an additional bit of code:</font></div>"
      ]
    },
    {
      "cell_type": "code",
      "execution_count": null,
      "metadata": {
        "id": "CKbrU9jza0hq"
      },
      "outputs": [],
      "source": [
        "for sent in doc2.sents:\n",
        "    docx = nlp(sent.text)\n",
        "    if docx.ents:\n",
        "        displacy.render(docx, style='ent', jupyter=True)\n",
        "    else:\n",
        "        print(docx.text)"
      ]
    },
    {
      "cell_type": "markdown",
      "metadata": {
        "id": "iqwKDANTa0hr"
      },
      "source": [
        "___\n",
        "## Viewing Specific Entities\n",
        "You can pass a list of entity types to restrict the visualization:"
      ]
    },
    {
      "cell_type": "code",
      "execution_count": null,
      "metadata": {
        "id": "jd8UfJF7a0hr"
      },
      "outputs": [],
      "source": [
        "options = {'ents': ['ORG', 'PRODUCT']}\n",
        "\n",
        "displacy.render(doc, style='ent', jupyter=True, options=options)"
      ]
    },
    {
      "cell_type": "markdown",
      "metadata": {
        "id": "Rp5M5hHha0hs"
      },
      "source": [
        "___\n",
        "## Customizing Colors and Effects\n",
        "You can also pass background color and gradient options:"
      ]
    },
    {
      "cell_type": "code",
      "execution_count": null,
      "metadata": {
        "id": "rdEqRbFVa0hs"
      },
      "outputs": [],
      "source": [
        "colors = {'ORG': 'linear-gradient(90deg, #aa9cfc, #fc9ce7)', 'PRODUCT': 'radial-gradient(yellow, green)'}\n",
        "\n",
        "options = {'ents': ['ORG', 'PRODUCT'], 'colors':colors}\n",
        "\n",
        "displacy.render(doc, style='ent', jupyter=True, options=options)"
      ]
    },
    {
      "cell_type": "markdown",
      "metadata": {
        "id": "E6meNZkoa0ht"
      },
      "source": [
        "For more on applying CSS background colors and gradients, visit https://www.w3schools.com/css/css3_gradients.asp"
      ]
    },
    {
      "cell_type": "markdown",
      "metadata": {
        "id": "Ae43SQUCa0ht"
      },
      "source": [
        "___\n",
        "# Creating Visualizations Outside of Jupyter\n",
        "If you're using another Python IDE or writing a script, you can choose to have spaCy serve up HTML separately.\n",
        "\n",
        "Instead of `displacy.render()`, use `displacy.serve()`:"
      ]
    },
    {
      "cell_type": "code",
      "execution_count": null,
      "metadata": {
        "id": "y4vEhGAaa0ht"
      },
      "outputs": [],
      "source": [
        "displacy.serve(doc, style='ent', options=options)"
      ]
    },
    {
      "cell_type": "markdown",
      "metadata": {
        "id": "QbFJP9yWa0hu"
      },
      "source": [
        "<font color=blue>**After running the cell above, click the link below to view the dependency parse**:</font>\n",
        "\n",
        "http://127.0.0.1:5000\n",
        "<br><br>\n",
        "<font color=red>**To shut down the server and return to jupyter**, interrupt the kernel either through the **Kernel** menu above, by hitting the black square on the toolbar, or by typing the keyboard shortcut `Esc`, `I`, `I`</font>"
      ]
    },
    {
      "cell_type": "markdown",
      "metadata": {
        "collapsed": true,
        "id": "VbAMaNPBa0hu"
      },
      "source": [
        "For more on **Visualizing the entity recognizer** visit https://spacy.io/usage/visualizers#ent\n",
        "## Next Up: Sentence Segmentation"
      ]
    }
  ],
  "metadata": {
    "kernelspec": {
      "display_name": "Python 3",
      "language": "python",
      "name": "python3"
    },
    "language_info": {
      "codemirror_mode": {
        "name": "ipython",
        "version": 3
      },
      "file_extension": ".py",
      "mimetype": "text/x-python",
      "name": "python",
      "nbconvert_exporter": "python",
      "pygments_lexer": "ipython3",
      "version": "3.6.2"
    },
    "colab": {
      "provenance": []
    }
  },
  "nbformat": 4,
  "nbformat_minor": 0
}