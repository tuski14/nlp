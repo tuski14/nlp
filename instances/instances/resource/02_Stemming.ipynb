{
  "cells": [
    {
      "cell_type": "markdown",
      "metadata": {
        "id": "S6AV5pXKvmQn"
      },
      "source": [
        "___\n",
        "\n",
        "<a href='http://www.pieriandata.com'> <img src='../Pierian_Data_Logo.png' /></a>\n",
        "___"
      ]
    },
    {
      "cell_type": "markdown",
      "metadata": {
        "id": "zy0hqV6qvmQs"
      },
      "source": [
        "# Stemming\n",
        "Often when searching text for a certain keyword, it helps if the search returns variations of the word. For instance, searching for \"boat\" might also return \"boats\" and \"boating\". Here, \"boat\" would be the **stem** for [boat, boater, boating, boats].\n",
        "\n",
        "Stemming is a somewhat crude method for cataloging related words; it essentially chops off letters from the end until the stem is reached. This works fairly well in most cases, but unfortunately English has many exceptions where a more sophisticated process is required. In fact, spaCy doesn't include a stemmer, opting instead to rely entirely on lemmatization."
      ]
    },
    {
      "cell_type": "markdown",
      "metadata": {
        "id": "dWFLQdVpvmQu"
      },
      "source": [
        "## Porter Stemmer\n",
        "\n",
        "One of the most common - and effective - stemming tools is [*Porter's Algorithm*](https://tartarus.org/martin/PorterStemmer/) developed by Martin Porter in [1980](https://tartarus.org/martin/PorterStemmer/def.txt). The algorithm employs five phases of word reduction, each with its own set of mapping rules. In the first phase, simple suffix mapping rules are defined, such as:"
      ]
    },
    {
      "cell_type": "markdown",
      "metadata": {
        "id": "rGE96MIQvmQv"
      },
      "source": [
        "![stemming1.png](../stemming1.png)"
      ]
    },
    {
      "cell_type": "markdown",
      "metadata": {
        "id": "pO9PrrBlvmQv"
      },
      "source": [
        "From a given set of stemming rules only one rule is applied, based on the longest suffix S1. Thus, `caresses` reduces to `caress` but not `cares`.\n",
        "\n",
        "More sophisticated phases consider the length/complexity of the word before applying a rule. For example:"
      ]
    },
    {
      "cell_type": "markdown",
      "metadata": {
        "id": "meb-fSOUvmQw"
      },
      "source": [
        "![stemming1.png](../stemming2.png)"
      ]
    },
    {
      "cell_type": "markdown",
      "metadata": {
        "id": "4cCuXh1RvmQx"
      },
      "source": [
        "Here `m>0` describes the \"measure\" of the stem, such that the rule is applied to all but the most basic stems."
      ]
    },
    {
      "cell_type": "code",
      "execution_count": null,
      "metadata": {
        "id": "8ooCdglPvmQx"
      },
      "outputs": [],
      "source": [
        "# Import the toolkit and the full Porter Stemmer library\n",
        "import nltk\n",
        "\n",
        "from nltk.stem.porter import *"
      ]
    },
    {
      "cell_type": "code",
      "execution_count": null,
      "metadata": {
        "id": "6B4mGzojvmQ0"
      },
      "outputs": [],
      "source": [
        "p_stemmer = PorterStemmer()"
      ]
    },
    {
      "cell_type": "code",
      "execution_count": null,
      "metadata": {
        "id": "sXHjquXBvmQ0"
      },
      "outputs": [],
      "source": [
        "words = ['run','runner','running','ran','runs','easily','fairly']"
      ]
    },
    {
      "cell_type": "code",
      "execution_count": null,
      "metadata": {
        "id": "m3TMqvk5vmQ1",
        "outputId": "8e5bd882-ab90-4a19-a7fb-854fdd3770c6"
      },
      "outputs": [
        {
          "name": "stdout",
          "output_type": "stream",
          "text": [
            "run --> run\n",
            "runner --> runner\n",
            "running --> run\n",
            "ran --> ran\n",
            "runs --> run\n",
            "easily --> easili\n",
            "fairly --> fairli\n"
          ]
        }
      ],
      "source": [
        "for word in words:\n",
        "    print(word+' --> '+p_stemmer.stem(word))"
      ]
    },
    {
      "cell_type": "markdown",
      "metadata": {
        "id": "dfzqRY3vvmQ2"
      },
      "source": [
        "<font color=green>Note how the stemmer recognizes \"runner\" as a noun, not a verb form or participle. Also, the adverbs \"easily\" and \"fairly\" are stemmed to the unusual root \"easili\" and \"fairli\"</font>\n",
        "___"
      ]
    },
    {
      "cell_type": "markdown",
      "metadata": {
        "id": "SIuSe5otvmQ3"
      },
      "source": [
        "## Snowball Stemmer\n",
        "This is somewhat of a misnomer, as Snowball is the name of a stemming language developed by Martin Porter. The algorithm used here is more acurately called the \"English Stemmer\" or \"Porter2 Stemmer\". It offers a slight improvement over the original Porter stemmer, both in logic and speed. Since **nltk** uses the name SnowballStemmer, we'll use it here."
      ]
    },
    {
      "cell_type": "code",
      "execution_count": null,
      "metadata": {
        "id": "h9jYyXPovmQ4"
      },
      "outputs": [],
      "source": [
        "from nltk.stem.snowball import SnowballStemmer\n",
        "\n",
        "# The Snowball Stemmer requires that you pass a language parameter\n",
        "s_stemmer = SnowballStemmer(language='english')"
      ]
    },
    {
      "cell_type": "code",
      "execution_count": null,
      "metadata": {
        "id": "gYHzBR5evmQ4"
      },
      "outputs": [],
      "source": [
        "words = ['run','runner','running','ran','runs','easily','fairly']\n",
        "# words = ['generous','generation','generously','generate']"
      ]
    },
    {
      "cell_type": "code",
      "execution_count": null,
      "metadata": {
        "id": "DunSSM4evmQ5",
        "outputId": "be51f225-4025-4504-ebdd-d8b6d120c8bc",
        "colab": {
          "base_uri": "https://localhost:8080/"
        }
      },
      "outputs": [
        {
          "output_type": "stream",
          "name": "stdout",
          "text": [
            "run --> run\n",
            "runner --> runner\n",
            "running --> run\n",
            "ran --> ran\n",
            "runs --> run\n",
            "easily --> easili\n",
            "fairly --> fair\n"
          ]
        }
      ],
      "source": [
        "for word in words:\n",
        "    print(word+' --> '+s_stemmer.stem(word))"
      ]
    },
    {
      "cell_type": "markdown",
      "metadata": {
        "collapsed": true,
        "id": "kQaeIj6FvmQ6"
      },
      "source": [
        "<font color=green>In this case the stemmer performed the same as the Porter Stemmer, with the exception that it handled the stem of \"fairly\" more appropriately with \"fair\"</font>\n",
        "___"
      ]
    },
    {
      "cell_type": "markdown",
      "metadata": {
        "id": "xXf4d4qHvmQ6"
      },
      "source": [
        "## Try it yourself!\n",
        "#### Pass in some of your own words and test each stemmer on them. Remember to pass them as strings!"
      ]
    },
    {
      "cell_type": "code",
      "execution_count": null,
      "metadata": {
        "id": "0d2yt4bbvmQ6"
      },
      "outputs": [],
      "source": [
        "words = ['consolingly']"
      ]
    },
    {
      "cell_type": "code",
      "execution_count": null,
      "metadata": {
        "id": "573z8_XKvmQ6",
        "outputId": "75d77b4b-cb91-4d4f-fe9a-498543537987"
      },
      "outputs": [
        {
          "name": "stdout",
          "output_type": "stream",
          "text": [
            "Porter Stemmer:\n",
            "consolingly --> consolingli\n"
          ]
        }
      ],
      "source": [
        "print('Porter Stemmer:')\n",
        "for word in words:\n",
        "    print(word+' --> '+p_stemmer.stem(word))"
      ]
    },
    {
      "cell_type": "code",
      "execution_count": null,
      "metadata": {
        "id": "f0nLVggQvmQ6",
        "outputId": "3cc73b48-8320-45e2-97d3-cfc8c3df8371"
      },
      "outputs": [
        {
          "name": "stdout",
          "output_type": "stream",
          "text": [
            "Porter2 Stemmer:\n",
            "consolingly --> consol\n"
          ]
        }
      ],
      "source": [
        "print('Porter2 Stemmer:')\n",
        "for word in words:\n",
        "    print(word+' --> '+s_stemmer.stem(word))"
      ]
    },
    {
      "cell_type": "markdown",
      "metadata": {
        "id": "yoZZUOihvmQ7"
      },
      "source": [
        "___\n",
        "Stemming has its drawbacks. If given the token `saw`, stemming might always return `saw`, whereas lemmatization would likely return either `see` or `saw` depending on whether the use of the token was as a verb or a noun. As an example, consider the following:"
      ]
    },
    {
      "cell_type": "code",
      "execution_count": null,
      "metadata": {
        "id": "AONM8r20vmQ7",
        "outputId": "e691a6e6-b9af-4275-fca4-b47e579e4fa8"
      },
      "outputs": [
        {
          "name": "stdout",
          "output_type": "stream",
          "text": [
            "I --> I\n",
            "am --> am\n",
            "meeting --> meet\n",
            "him --> him\n",
            "tomorrow --> tomorrow\n",
            "at --> at\n",
            "the --> the\n",
            "meeting --> meet\n"
          ]
        }
      ],
      "source": [
        "phrase = 'I am meeting him tomorrow at the meeting'\n",
        "for word in phrase.split():\n",
        "    print(word+' --> '+p_stemmer.stem(word))"
      ]
    },
    {
      "cell_type": "markdown",
      "metadata": {
        "id": "XblRQiSJvmQ7"
      },
      "source": [
        "Here the word \"meeting\" appears twice - once as a verb, and once as a noun, and yet the stemmer treats both equally."
      ]
    },
    {
      "cell_type": "markdown",
      "metadata": {
        "id": "9zGOeS41vmQ7"
      },
      "source": [
        "### Next up: Lemmatization"
      ]
    }
  ],
  "metadata": {
    "kernelspec": {
      "display_name": "Python 3",
      "language": "python",
      "name": "python3"
    },
    "language_info": {
      "codemirror_mode": {
        "name": "ipython",
        "version": 3
      },
      "file_extension": ".py",
      "mimetype": "text/x-python",
      "name": "python",
      "nbconvert_exporter": "python",
      "pygments_lexer": "ipython3",
      "version": "3.6.2"
    },
    "colab": {
      "provenance": []
    }
  },
  "nbformat": 4,
  "nbformat_minor": 0
}